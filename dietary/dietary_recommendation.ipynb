{
 "cells": [
  {
   "cell_type": "code",
   "execution_count": 2,
   "id": "28514819-5d04-468c-a20a-87a61fb8ba6c",
   "metadata": {},
   "outputs": [],
   "source": [
    "import pandas as pd\n",
    "import numpy as np"
   ]
  },
  {
   "cell_type": "code",
   "execution_count": 12,
   "id": "aa2add33-bccb-4d19-88ea-a4fa47dc20cc",
   "metadata": {},
   "outputs": [
    {
     "name": "stdin",
     "output_type": "stream",
     "text": [
      "Enter your weight (kg): 65\n",
      "Enter your height (cm): 165\n",
      "Gender: male\n",
      "Select your age: 19\n"
     ]
    },
    {
     "name": "stdout",
     "output_type": "stream",
     "text": [
      "Normal Weight\n",
      "1643.139\n"
     ]
    },
    {
     "name": "stdin",
     "output_type": "stream",
     "text": [
      "[\"['Sedentary', 'Lightly_Active', 'Moderately_Active', 'Very_Active']\"] Lightly_Active\n"
     ]
    },
    {
     "name": "stdout",
     "output_type": "stream",
     "text": [
      "2259.316125\n"
     ]
    }
   ],
   "source": [
    "# macronutrients(protien,fat,carbohydarte) for diffent body goals\n",
    "weight = float(input(\"Enter your weight (kg):\"))\n",
    "height = float(input(\"Enter your height (cm):\"))\n",
    "gender = input(\"Gender:\")\n",
    "age = float(input(\"Select your age:\"))\n",
    "bmi = round(weight/((height/100)**2),2)\n",
    "if bmi < 18.5:\n",
    "    bodytype=\"Underweight\"\n",
    "elif 18.5 <= bmi < 25:\n",
    "    bodytype= \"Normal Weight\"\n",
    "elif 25 <= bmi < 30:\n",
    "    bodytype= \"Overweight\"\n",
    "else:\n",
    "    bodytype= \"Obese\"\n",
    "print(bodytype)\n",
    "if gender.lower()==\"male\":\n",
    "    bmr=88.362+(13.397*weight)+(4.799*height)-(5.677*age)\n",
    "elif gender.lower()==\"Female\":\n",
    "    bmr=447.593+(9.247*weight)+(3.098*height)-(4.330*age)\n",
    "else:\n",
    "    print(\"Fuck Off\")\n",
    "print(bmr)\n",
    "activity_level_options = ['Sedentary', 'Lightly_Active', 'Moderately_Active', 'Very_Active']\n",
    "activity_level = input([\"['Sedentary', 'Lightly_Active', 'Moderately_Active', 'Very_Active']\"])\n",
    "multiplier = {\n",
    "    'sedentary': 1.2,\n",
    "    'lightly_active': 1.375,\n",
    "    'moderately_active': 1.55,\n",
    "    'very_active': 1.725\n",
    "    }\n",
    "tdee = bmr*multiplier[activity_level.lower()]  \n",
    "print(tdee)"
   ]
  },
  {
   "cell_type": "code",
   "execution_count": 13,
   "id": "9cccdd6e-0e4f-47ae-9cd2-3a449969928b",
   "metadata": {},
   "outputs": [
    {
     "data": {
      "text/html": [
       "<div>\n",
       "<style scoped>\n",
       "    .dataframe tbody tr th:only-of-type {\n",
       "        vertical-align: middle;\n",
       "    }\n",
       "\n",
       "    .dataframe tbody tr th {\n",
       "        vertical-align: top;\n",
       "    }\n",
       "\n",
       "    .dataframe thead th {\n",
       "        text-align: right;\n",
       "    }\n",
       "</style>\n",
       "<table border=\"1\" class=\"dataframe\">\n",
       "  <thead>\n",
       "    <tr style=\"text-align: right;\">\n",
       "      <th></th>\n",
       "      <th>food</th>\n",
       "      <th>calorie</th>\n",
       "      <th>protein</th>\n",
       "      <th>carbs</th>\n",
       "      <th>fat</th>\n",
       "      <th>Goals</th>\n",
       "      <th>Preferences</th>\n",
       "      <th>Restrictions</th>\n",
       "    </tr>\n",
       "  </thead>\n",
       "  <tbody>\n",
       "    <tr>\n",
       "      <th>0</th>\n",
       "      <td>Chicken Breast</td>\n",
       "      <td>165</td>\n",
       "      <td>31.0</td>\n",
       "      <td>0.0</td>\n",
       "      <td>3.6</td>\n",
       "      <td>Weight loss</td>\n",
       "      <td>Protein-Rich Foods</td>\n",
       "      <td>Lactose intolerant</td>\n",
       "    </tr>\n",
       "    <tr>\n",
       "      <th>1</th>\n",
       "      <td>Salmon</td>\n",
       "      <td>206</td>\n",
       "      <td>22.0</td>\n",
       "      <td>0.0</td>\n",
       "      <td>13.0</td>\n",
       "      <td>Muscle gain</td>\n",
       "      <td>Protein-Rich Foods</td>\n",
       "      <td>NaN</td>\n",
       "    </tr>\n",
       "    <tr>\n",
       "      <th>2</th>\n",
       "      <td>Brown Rice</td>\n",
       "      <td>215</td>\n",
       "      <td>5.0</td>\n",
       "      <td>45.0</td>\n",
       "      <td>1.6</td>\n",
       "      <td>General health</td>\n",
       "      <td>Whole Grains</td>\n",
       "      <td>Gluten-free</td>\n",
       "    </tr>\n",
       "    <tr>\n",
       "      <th>3</th>\n",
       "      <td>Broccoli</td>\n",
       "      <td>55</td>\n",
       "      <td>3.7</td>\n",
       "      <td>11.0</td>\n",
       "      <td>0.6</td>\n",
       "      <td>Weight loss</td>\n",
       "      <td>Vegetables</td>\n",
       "      <td>Lactose intolerant</td>\n",
       "    </tr>\n",
       "    <tr>\n",
       "      <th>4</th>\n",
       "      <td>Almonds</td>\n",
       "      <td>7</td>\n",
       "      <td>0.3</td>\n",
       "      <td>0.6</td>\n",
       "      <td>0.6</td>\n",
       "      <td>Weight loss</td>\n",
       "      <td>Protein-Rich Foods</td>\n",
       "      <td>NaN</td>\n",
       "    </tr>\n",
       "  </tbody>\n",
       "</table>\n",
       "</div>"
      ],
      "text/plain": [
       "             food  calorie  protein  carbs   fat           Goals  \\\n",
       "0  Chicken Breast      165     31.0    0.0   3.6     Weight loss   \n",
       "1          Salmon      206     22.0    0.0  13.0     Muscle gain   \n",
       "2      Brown Rice      215      5.0   45.0   1.6  General health   \n",
       "3        Broccoli       55      3.7   11.0   0.6     Weight loss   \n",
       "4         Almonds        7      0.3    0.6   0.6     Weight loss   \n",
       "\n",
       "          Preferences        Restrictions  \n",
       "0  Protein-Rich Foods  Lactose intolerant  \n",
       "1  Protein-Rich Foods                 NaN  \n",
       "2        Whole Grains         Gluten-free  \n",
       "3          Vegetables  Lactose intolerant  \n",
       "4  Protein-Rich Foods                 NaN  "
      ]
     },
     "execution_count": 13,
     "metadata": {},
     "output_type": "execute_result"
    }
   ],
   "source": [
    "data = pd.read_csv(\"diertary_recomendation.csv\")\n",
    "data.head()"
   ]
  },
  {
   "cell_type": "code",
   "execution_count": 17,
   "id": "96864e32-f4c2-45ad-859c-4c592b22e8df",
   "metadata": {},
   "outputs": [
    {
     "name": "stdout",
     "output_type": "stream",
     "text": [
      "['Weight loss', 'Muscle gain', 'General health', 'Indulgence']\n",
      "['Protein-Rich Foods', 'Whole Grains', 'Vegetables', 'Dairy', 'Fruits', nan, 'Vegetarian', 'Nuts', 'Spices', 'Fats', 'Sweets', 'Beverages', 'Seafood', 'Snacks', 'Condiments', 'Street Food', 'Indian', 'South Indian', 'Fusion', 'North Indian', 'Tibetan', 'Indo-Chinese', 'Gujarati', 'Rajasthani']\n",
      "['Lactose intolerant', nan, 'Gluten-free', 'Vegetarian', 'Caffeine sensitive']\n"
     ]
    }
   ],
   "source": [
    "l1 = data['Goals'].unique().tolist()\n",
    "l2 = data['Preferences'].unique().tolist()\n",
    "l3 = data['Restrictions'].unique().tolist()\n",
    "print(l1)\n",
    "print(l2)\n",
    "print(l3)"
   ]
  },
  {
   "cell_type": "code",
   "execution_count": 19,
   "id": "67324032-05a9-40e2-a613-789f26f58079",
   "metadata": {},
   "outputs": [
    {
     "name": "stdout",
     "output_type": "stream",
     "text": [
      "891\n"
     ]
    }
   ],
   "source": [
    "print(data.shape[0])"
   ]
  },
  {
   "cell_type": "code",
   "execution_count": 20,
   "id": "f5d20a4b-ef52-4c61-8490-57bd2832ec0f",
   "metadata": {},
   "outputs": [
    {
     "name": "stdout",
     "output_type": "stream",
     "text": [
      "750\n"
     ]
    }
   ],
   "source": [
    "data.drop_duplicates(inplace=True)\n",
    "data.reset_index(drop=True, inplace=True)\n",
    "print(data.shape[0])"
   ]
  },
  {
   "cell_type": "code",
   "execution_count": 24,
   "id": "d891fc9b-5e65-476e-85f9-9a583f28b031",
   "metadata": {},
   "outputs": [
    {
     "data": {
      "text/html": [
       "<div>\n",
       "<style scoped>\n",
       "    .dataframe tbody tr th:only-of-type {\n",
       "        vertical-align: middle;\n",
       "    }\n",
       "\n",
       "    .dataframe tbody tr th {\n",
       "        vertical-align: top;\n",
       "    }\n",
       "\n",
       "    .dataframe thead th {\n",
       "        text-align: right;\n",
       "    }\n",
       "</style>\n",
       "<table border=\"1\" class=\"dataframe\">\n",
       "  <thead>\n",
       "    <tr style=\"text-align: right;\">\n",
       "      <th></th>\n",
       "      <th>food</th>\n",
       "      <th>calorie</th>\n",
       "      <th>protein</th>\n",
       "      <th>carbs</th>\n",
       "      <th>fat</th>\n",
       "      <th>Goals</th>\n",
       "      <th>Preferences</th>\n",
       "      <th>Restrictions</th>\n",
       "    </tr>\n",
       "  </thead>\n",
       "  <tbody>\n",
       "    <tr>\n",
       "      <th>0</th>\n",
       "      <td>Chicken Breast</td>\n",
       "      <td>165</td>\n",
       "      <td>31.0</td>\n",
       "      <td>0.0</td>\n",
       "      <td>3.6</td>\n",
       "      <td>Weight loss</td>\n",
       "      <td>Protein-Rich Foods</td>\n",
       "      <td>Lactose intolerant</td>\n",
       "    </tr>\n",
       "    <tr>\n",
       "      <th>1</th>\n",
       "      <td>Salmon</td>\n",
       "      <td>206</td>\n",
       "      <td>22.0</td>\n",
       "      <td>0.0</td>\n",
       "      <td>13.0</td>\n",
       "      <td>Muscle gain</td>\n",
       "      <td>Protein-Rich Foods</td>\n",
       "      <td>No Restriction</td>\n",
       "    </tr>\n",
       "    <tr>\n",
       "      <th>2</th>\n",
       "      <td>Brown Rice</td>\n",
       "      <td>215</td>\n",
       "      <td>5.0</td>\n",
       "      <td>45.0</td>\n",
       "      <td>1.6</td>\n",
       "      <td>General health</td>\n",
       "      <td>Whole Grains</td>\n",
       "      <td>Gluten-free</td>\n",
       "    </tr>\n",
       "    <tr>\n",
       "      <th>3</th>\n",
       "      <td>Broccoli</td>\n",
       "      <td>55</td>\n",
       "      <td>3.7</td>\n",
       "      <td>11.0</td>\n",
       "      <td>0.6</td>\n",
       "      <td>Weight loss</td>\n",
       "      <td>Vegetables</td>\n",
       "      <td>Lactose intolerant</td>\n",
       "    </tr>\n",
       "    <tr>\n",
       "      <th>4</th>\n",
       "      <td>Almonds</td>\n",
       "      <td>7</td>\n",
       "      <td>0.3</td>\n",
       "      <td>0.6</td>\n",
       "      <td>0.6</td>\n",
       "      <td>Weight loss</td>\n",
       "      <td>Protein-Rich Foods</td>\n",
       "      <td>No Restriction</td>\n",
       "    </tr>\n",
       "  </tbody>\n",
       "</table>\n",
       "</div>"
      ],
      "text/plain": [
       "             food  calorie  protein  carbs   fat           Goals  \\\n",
       "0  Chicken Breast      165     31.0    0.0   3.6     Weight loss   \n",
       "1          Salmon      206     22.0    0.0  13.0     Muscle gain   \n",
       "2      Brown Rice      215      5.0   45.0   1.6  General health   \n",
       "3        Broccoli       55      3.7   11.0   0.6     Weight loss   \n",
       "4         Almonds        7      0.3    0.6   0.6     Weight loss   \n",
       "\n",
       "          Preferences        Restrictions  \n",
       "0  Protein-Rich Foods  Lactose intolerant  \n",
       "1  Protein-Rich Foods      No Restriction  \n",
       "2        Whole Grains         Gluten-free  \n",
       "3          Vegetables  Lactose intolerant  \n",
       "4  Protein-Rich Foods      No Restriction  "
      ]
     },
     "execution_count": 24,
     "metadata": {},
     "output_type": "execute_result"
    }
   ],
   "source": [
    "data['Restrictions'].fillna('No Restriction', inplace=True)\n",
    "data.head()"
   ]
  },
  {
   "cell_type": "code",
   "execution_count": 26,
   "id": "7463e547-978e-4169-ad11-8e014bff59d3",
   "metadata": {},
   "outputs": [
    {
     "data": {
      "text/html": [
       "<div>\n",
       "<style scoped>\n",
       "    .dataframe tbody tr th:only-of-type {\n",
       "        vertical-align: middle;\n",
       "    }\n",
       "\n",
       "    .dataframe tbody tr th {\n",
       "        vertical-align: top;\n",
       "    }\n",
       "\n",
       "    .dataframe thead th {\n",
       "        text-align: right;\n",
       "    }\n",
       "</style>\n",
       "<table border=\"1\" class=\"dataframe\">\n",
       "  <thead>\n",
       "    <tr style=\"text-align: right;\">\n",
       "      <th></th>\n",
       "      <th>food</th>\n",
       "      <th>calorie</th>\n",
       "      <th>protein</th>\n",
       "      <th>carbs</th>\n",
       "      <th>fat</th>\n",
       "      <th>Goals</th>\n",
       "      <th>Preferences</th>\n",
       "      <th>Restrictions</th>\n",
       "    </tr>\n",
       "  </thead>\n",
       "  <tbody>\n",
       "    <tr>\n",
       "      <th>0</th>\n",
       "      <td>Chicken Breast</td>\n",
       "      <td>165</td>\n",
       "      <td>31.0</td>\n",
       "      <td>0.0</td>\n",
       "      <td>3.6</td>\n",
       "      <td>Weight loss</td>\n",
       "      <td>Protein-Rich Foods</td>\n",
       "      <td>Lactose intolerant</td>\n",
       "    </tr>\n",
       "    <tr>\n",
       "      <th>1</th>\n",
       "      <td>Salmon</td>\n",
       "      <td>206</td>\n",
       "      <td>22.0</td>\n",
       "      <td>0.0</td>\n",
       "      <td>13.0</td>\n",
       "      <td>Muscle gain</td>\n",
       "      <td>Protein-Rich Foods</td>\n",
       "      <td>No Restriction</td>\n",
       "    </tr>\n",
       "    <tr>\n",
       "      <th>2</th>\n",
       "      <td>Brown Rice</td>\n",
       "      <td>215</td>\n",
       "      <td>5.0</td>\n",
       "      <td>45.0</td>\n",
       "      <td>1.6</td>\n",
       "      <td>General health</td>\n",
       "      <td>Whole Grains</td>\n",
       "      <td>Gluten-free</td>\n",
       "    </tr>\n",
       "    <tr>\n",
       "      <th>3</th>\n",
       "      <td>Broccoli</td>\n",
       "      <td>55</td>\n",
       "      <td>3.7</td>\n",
       "      <td>11.0</td>\n",
       "      <td>0.6</td>\n",
       "      <td>Weight loss</td>\n",
       "      <td>Vegetables</td>\n",
       "      <td>Lactose intolerant</td>\n",
       "    </tr>\n",
       "    <tr>\n",
       "      <th>4</th>\n",
       "      <td>Almonds</td>\n",
       "      <td>7</td>\n",
       "      <td>0.3</td>\n",
       "      <td>0.6</td>\n",
       "      <td>0.6</td>\n",
       "      <td>Weight loss</td>\n",
       "      <td>Protein-Rich Foods</td>\n",
       "      <td>No Restriction</td>\n",
       "    </tr>\n",
       "    <tr>\n",
       "      <th>...</th>\n",
       "      <td>...</td>\n",
       "      <td>...</td>\n",
       "      <td>...</td>\n",
       "      <td>...</td>\n",
       "      <td>...</td>\n",
       "      <td>...</td>\n",
       "      <td>...</td>\n",
       "      <td>...</td>\n",
       "    </tr>\n",
       "    <tr>\n",
       "      <th>745</th>\n",
       "      <td>Cham Cham Cupcakes</td>\n",
       "      <td>180</td>\n",
       "      <td>3.0</td>\n",
       "      <td>20.0</td>\n",
       "      <td>8.0</td>\n",
       "      <td>Indulgence</td>\n",
       "      <td>Sweets</td>\n",
       "      <td>No Restriction</td>\n",
       "    </tr>\n",
       "    <tr>\n",
       "      <th>746</th>\n",
       "      <td>Mysore Pak Ice Cream</td>\n",
       "      <td>250</td>\n",
       "      <td>5.0</td>\n",
       "      <td>30.0</td>\n",
       "      <td>12.0</td>\n",
       "      <td>Indulgence</td>\n",
       "      <td>Sweets</td>\n",
       "      <td>No Restriction</td>\n",
       "    </tr>\n",
       "    <tr>\n",
       "      <th>747</th>\n",
       "      <td>Gajar Ki Kheer</td>\n",
       "      <td>150</td>\n",
       "      <td>3.0</td>\n",
       "      <td>20.0</td>\n",
       "      <td>6.0</td>\n",
       "      <td>Indulgence</td>\n",
       "      <td>Sweets</td>\n",
       "      <td>No Restriction</td>\n",
       "    </tr>\n",
       "    <tr>\n",
       "      <th>748</th>\n",
       "      <td>Malai Sandwich</td>\n",
       "      <td>200</td>\n",
       "      <td>4.0</td>\n",
       "      <td>25.0</td>\n",
       "      <td>8.0</td>\n",
       "      <td>Indulgence</td>\n",
       "      <td>Sweets</td>\n",
       "      <td>No Restriction</td>\n",
       "    </tr>\n",
       "    <tr>\n",
       "      <th>749</th>\n",
       "      <td>Gond Ke Ladoo</td>\n",
       "      <td>220</td>\n",
       "      <td>5.0</td>\n",
       "      <td>30.0</td>\n",
       "      <td>10.0</td>\n",
       "      <td>Indulgence</td>\n",
       "      <td>Sweets</td>\n",
       "      <td>No Restriction</td>\n",
       "    </tr>\n",
       "  </tbody>\n",
       "</table>\n",
       "<p>748 rows × 8 columns</p>\n",
       "</div>"
      ],
      "text/plain": [
       "                     food  calorie  protein  carbs   fat           Goals  \\\n",
       "0          Chicken Breast      165     31.0    0.0   3.6     Weight loss   \n",
       "1                  Salmon      206     22.0    0.0  13.0     Muscle gain   \n",
       "2              Brown Rice      215      5.0   45.0   1.6  General health   \n",
       "3                Broccoli       55      3.7   11.0   0.6     Weight loss   \n",
       "4                 Almonds        7      0.3    0.6   0.6     Weight loss   \n",
       "..                    ...      ...      ...    ...   ...             ...   \n",
       "745    Cham Cham Cupcakes      180      3.0   20.0   8.0      Indulgence   \n",
       "746  Mysore Pak Ice Cream      250      5.0   30.0  12.0      Indulgence   \n",
       "747        Gajar Ki Kheer      150      3.0   20.0   6.0      Indulgence   \n",
       "748        Malai Sandwich      200      4.0   25.0   8.0      Indulgence   \n",
       "749         Gond Ke Ladoo      220      5.0   30.0  10.0      Indulgence   \n",
       "\n",
       "            Preferences        Restrictions  \n",
       "0    Protein-Rich Foods  Lactose intolerant  \n",
       "1    Protein-Rich Foods      No Restriction  \n",
       "2          Whole Grains         Gluten-free  \n",
       "3            Vegetables  Lactose intolerant  \n",
       "4    Protein-Rich Foods      No Restriction  \n",
       "..                  ...                 ...  \n",
       "745              Sweets      No Restriction  \n",
       "746              Sweets      No Restriction  \n",
       "747              Sweets      No Restriction  \n",
       "748              Sweets      No Restriction  \n",
       "749              Sweets      No Restriction  \n",
       "\n",
       "[748 rows x 8 columns]"
      ]
     },
     "execution_count": 26,
     "metadata": {},
     "output_type": "execute_result"
    }
   ],
   "source": [
    "data.dropna()"
   ]
  },
  {
   "cell_type": "code",
   "execution_count": 37,
   "id": "1224ec04-c10b-4366-85f1-57b0d1e7a332",
   "metadata": {},
   "outputs": [],
   "source": [
    "def recommend_food(goals, preferences, restrictions, filtered_df):\n",
    "    # Define weights for goals, preferences, and restrictions\n",
    "    goal_weight = 2\n",
    "    preference_weight = 1\n",
    "    restriction_weight = -1\n",
    "    \n",
    "    filtered_df = filtered_df.copy()\n",
    "    # Calculate scores for each food item\n",
    "    filtered_df.loc[:, 'Score'] = (\n",
    "        filtered_df['Goals'].apply(lambda x: goal_weight if x in goals else 0) +\n",
    "        filtered_df['Preferences'].apply(lambda x: preference_weight if any(pref in preferences for pref in x.split(',')) else 0) +\n",
    "        filtered_df['Restrictions'].apply(lambda x: restriction_weight if any(rest in restrictions for rest in x.split(',')) else 0)\n",
    "    )\n",
    "\n",
    "    # Sort DataFrame based on scores\n",
    "    recommended_df = filtered_df.sort_values(by='Score', ascending=False).head(1)\n",
    "\n",
    "    return recommended_df.to_dict(orient='records')[0]"
   ]
  },
  {
   "cell_type": "code",
   "execution_count": 38,
   "id": "39fbbb1b-55b8-4230-b4a3-3593c2adee74",
   "metadata": {},
   "outputs": [],
   "source": [
    "goals = [\"Weight loss\"]\n",
    "preferences = ['Beverages', 'Seafood', 'Snacks']\n",
    "restrictions = [\"No Restriction\"]\n",
    "filtered_data = data[data['Goals'].isin(goals) & data['Preferences'].apply(lambda x: isinstance(x, str) and any(pref in preferences for pref in x.split(','))) & data['Restrictions'].apply(lambda x: isinstance(x, str) and any(rest in restrictions for rest in x.split(',')))]\n",
    "\n",
    "recomdation = recommend_food(goals,preferences,restrictions,filtered_data)"
   ]
  },
  {
   "cell_type": "code",
   "execution_count": 39,
   "id": "29c087f4-f1da-4df2-bd1b-e250f3628ed9",
   "metadata": {},
   "outputs": [
    {
     "name": "stdout",
     "output_type": "stream",
     "text": [
      "{'food': 'Grilled Salmon Salad', 'calorie': 250, 'protein': 30.0, 'carbs': 15.0, 'fat': 12.0, 'Goals': 'Weight loss', 'Preferences': 'Seafood', 'Restrictions': 'No Restriction', 'Score': 2}\n"
     ]
    }
   ],
   "source": [
    "print(recomdation)"
   ]
  },
  {
   "cell_type": "code",
   "execution_count": 61,
   "id": "63670f3a-8975-42b7-9470-fc4199def5ee",
   "metadata": {},
   "outputs": [],
   "source": [
    "def recommend_food(goals, preferences, restrictions, filtered_data, body_goal):\n",
    "    # Define macronutrient distribution based on body goals\n",
    "    if body_goal == 'Weight Loss':\n",
    "        protein_range = (1.2, 1.6)\n",
    "    elif body_goal == 'Muscle Gain':\n",
    "        protein_range = (1.6, 2.2)\n",
    "    elif body_goal == 'Maintenance':\n",
    "        protein_range = (1.2, 1.6)\n",
    "    else:\n",
    "        protein_range = (1.2, 1.6)  # Default for General Health\n",
    "\n",
    "    fat_range = (0.2, 0.35)  # 20-35% of total daily calories\n",
    "\n",
    "    # Create a deep copy to avoid SettingWithCopyWarning\n",
    "    filtered_data = filtered_data.copy()\n",
    "\n",
    "    # Calculate scores for each food item using .loc\n",
    "    filtered_data.loc[:, 'Score'] = (\n",
    "        filtered_data['Goals'].apply(lambda x: 1 if x == body_goal else 0) +\n",
    "        filtered_data['Preferences'].apply(lambda x: 1 if isinstance(x, str) and any(pref in preferences for pref in x.split(',')) else 0) +\n",
    "        filtered_data['Restrictions'].apply(lambda x: 1 if isinstance(x, str) and any(rest in restrictions for rest in x.split(',')) else 0)\n",
    "    )\n",
    "\n",
    "    # Filter data based on user inputs\n",
    "    filtered_data = filtered_data[filtered_data['Goals'].apply(lambda x: x[0] == body_goal)]\n",
    "\n",
    "\n",
    "    # Recommend food based on user inputs\n",
    "    recommendation = filtered_data.sort_values(by='Score', ascending=False).head(1).to_dict(orient='records')[0]\n",
    "\n",
    "    # Calculate macronutrient distribution based on body goals\n",
    "    weight = st.number_input(\"Enter your weight (kg):\")\n",
    "    protein_range = (weight * protein_range[0], weight * protein_range[1])\n",
    "    fat_range = (weight * fat_range[0], weight * fat_range[1])\n",
    "    carb_range = (weight * 4 - protein_range[0] * 4 - fat_range[0] * 9, weight * 4 - protein_range[1] * 4 - fat_range[1] * 9)\n",
    "\n",
    "    # Display macronutrient distribution ranges\n",
    "    print(\"Macronutrient Distribution Ranges:\")\n",
    "    print(f\"Protein: {protein_range[0]:.2f} - {protein_range[1]:.2f} grams\")\n",
    "    print(f\"Fat: {fat_range[0]:.2f} - {fat_range[1]:.2f} grams\")\n",
    "    print(f\"Carbohydrates: {carb_range[0]:.2f} - {carb_range[1]:.2f} grams\")"
   ]
  },
  {
   "cell_type": "code",
   "execution_count": 62,
   "id": "e88150f6-2475-4461-bb4e-acded367563c",
   "metadata": {},
   "outputs": [
    {
     "name": "stdout",
     "output_type": "stream",
     "text": [
      "Filtered DataFrame based on user inputs:\n",
      "                     food  calorie  protein  carbs   fat        Goals  \\\n",
      "312  Grilled Salmon Salad      250     30.0   15.0  12.0  Weight loss   \n",
      "330    Grilled Tuna Steak      180     25.0    1.0   8.0  Weight loss   \n",
      "347        Baked Cod Fish      120     25.0    0.0   2.0  Weight loss   \n",
      "\n",
      "    Preferences    Restrictions  \n",
      "312     Seafood  No Restriction  \n",
      "330     Seafood  No Restriction  \n",
      "347     Seafood  No Restriction  \n"
     ]
    }
   ],
   "source": [
    "goals = [\"Weight loss\"]\n",
    "preferences = ['Beverages', 'Seafood', 'Snacks']\n",
    "restrictions = [\"No Restriction\"]\n",
    "body_goal=[\"Weight loss\"]\n",
    "filtered_data = data[data['Goals'].isin(goals) & data['Preferences'].apply(lambda x: isinstance(x, str) and any(pref in preferences for pref in x.split(','))) & data['Restrictions'].apply(lambda x: isinstance(x, str) and any(rest in restrictions for rest in x.split(',')))]\n",
    "\n",
    "print(\"Filtered DataFrame based on user inputs:\")\n",
    "print(filtered_data)\n"
   ]
  },
  {
   "cell_type": "code",
   "execution_count": 63,
   "id": "a4181bab-3a7d-4867-828d-d1fd2433072a",
   "metadata": {},
   "outputs": [
    {
     "ename": "IndexError",
     "evalue": "list index out of range",
     "output_type": "error",
     "traceback": [
      "\u001b[1;31m---------------------------------------------------------------------------\u001b[0m",
      "\u001b[1;31mIndexError\u001b[0m                                Traceback (most recent call last)",
      "Cell \u001b[1;32mIn[63], line 1\u001b[0m\n\u001b[1;32m----> 1\u001b[0m \u001b[43mrecommend_food\u001b[49m\u001b[43m(\u001b[49m\u001b[43mgoals\u001b[49m\u001b[43m,\u001b[49m\u001b[43m \u001b[49m\u001b[43mpreferences\u001b[49m\u001b[43m,\u001b[49m\u001b[43m \u001b[49m\u001b[43mrestrictions\u001b[49m\u001b[43m,\u001b[49m\u001b[43m \u001b[49m\u001b[43mfiltered_data\u001b[49m\u001b[43m,\u001b[49m\u001b[43m \u001b[49m\u001b[43mbody_goal\u001b[49m\u001b[43m)\u001b[49m\n",
      "Cell \u001b[1;32mIn[61], line 29\u001b[0m, in \u001b[0;36mrecommend_food\u001b[1;34m(goals, preferences, restrictions, filtered_data, body_goal)\u001b[0m\n\u001b[0;32m     25\u001b[0m filtered_data \u001b[38;5;241m=\u001b[39m filtered_data[filtered_data[\u001b[38;5;124m'\u001b[39m\u001b[38;5;124mGoals\u001b[39m\u001b[38;5;124m'\u001b[39m]\u001b[38;5;241m.\u001b[39mapply(\u001b[38;5;28;01mlambda\u001b[39;00m x: x[\u001b[38;5;241m0\u001b[39m] \u001b[38;5;241m==\u001b[39m body_goal)]\n\u001b[0;32m     28\u001b[0m \u001b[38;5;66;03m# Recommend food based on user inputs\u001b[39;00m\n\u001b[1;32m---> 29\u001b[0m recommendation \u001b[38;5;241m=\u001b[39m \u001b[43mfiltered_data\u001b[49m\u001b[38;5;241;43m.\u001b[39;49m\u001b[43msort_values\u001b[49m\u001b[43m(\u001b[49m\u001b[43mby\u001b[49m\u001b[38;5;241;43m=\u001b[39;49m\u001b[38;5;124;43m'\u001b[39;49m\u001b[38;5;124;43mScore\u001b[39;49m\u001b[38;5;124;43m'\u001b[39;49m\u001b[43m,\u001b[49m\u001b[43m \u001b[49m\u001b[43mascending\u001b[49m\u001b[38;5;241;43m=\u001b[39;49m\u001b[38;5;28;43;01mFalse\u001b[39;49;00m\u001b[43m)\u001b[49m\u001b[38;5;241;43m.\u001b[39;49m\u001b[43mhead\u001b[49m\u001b[43m(\u001b[49m\u001b[38;5;241;43m1\u001b[39;49m\u001b[43m)\u001b[49m\u001b[38;5;241;43m.\u001b[39;49m\u001b[43mto_dict\u001b[49m\u001b[43m(\u001b[49m\u001b[43morient\u001b[49m\u001b[38;5;241;43m=\u001b[39;49m\u001b[38;5;124;43m'\u001b[39;49m\u001b[38;5;124;43mrecords\u001b[39;49m\u001b[38;5;124;43m'\u001b[39;49m\u001b[43m)\u001b[49m\u001b[43m[\u001b[49m\u001b[38;5;241;43m0\u001b[39;49m\u001b[43m]\u001b[49m\n\u001b[0;32m     31\u001b[0m \u001b[38;5;66;03m# Calculate macronutrient distribution based on body goals\u001b[39;00m\n\u001b[0;32m     32\u001b[0m weight \u001b[38;5;241m=\u001b[39m st\u001b[38;5;241m.\u001b[39mnumber_input(\u001b[38;5;124m\"\u001b[39m\u001b[38;5;124mEnter your weight (kg):\u001b[39m\u001b[38;5;124m\"\u001b[39m)\n",
      "\u001b[1;31mIndexError\u001b[0m: list index out of range"
     ]
    }
   ],
   "source": [
    " recommend_food(goals, preferences, restrictions, filtered_data, body_goal)"
   ]
  },
  {
   "cell_type": "code",
   "execution_count": 58,
   "id": "e13ad6c9-6ce9-4802-808c-a708b5286e2b",
   "metadata": {},
   "outputs": [
    {
     "name": "stdout",
     "output_type": "stream",
     "text": [
      "3 3\n"
     ]
    }
   ],
   "source": [
    "print(len(filtered_data['Goals']), len(body_goal))"
   ]
  },
  {
   "cell_type": "code",
   "execution_count": 45,
   "id": "d4dba23d-7a87-4c1c-ab61-9fe77a52ac1b",
   "metadata": {},
   "outputs": [
    {
     "name": "stdout",
     "output_type": "stream",
     "text": [
      "312    Weight loss\n",
      "330    Weight loss\n",
      "347    Weight loss\n",
      "Name: Goals, dtype: object\n"
     ]
    }
   ],
   "source": [
    "print(filtered_data['Goals'])"
   ]
  },
  {
   "cell_type": "code",
   "execution_count": 47,
   "id": "1f88fe7b-520d-498a-b4c2-59055ba26d9f",
   "metadata": {},
   "outputs": [
    {
     "name": "stdout",
     "output_type": "stream",
     "text": [
      "['Weight loss', 'Weight loss', 'Weight loss']\n"
     ]
    }
   ],
   "source": [
    "l=[\"Weight loss\"]*len(filtered_data['Goals'])\n",
    "print(l)"
   ]
  },
  {
   "cell_type": "code",
   "execution_count": null,
   "id": "bc15642f-9cab-4838-968d-362326fa107c",
   "metadata": {},
   "outputs": [],
   "source": [
    "weight = float(input(\"Enter your weight (kg):\"))\n",
    "height = float(input(\"Enter your height (cm):\"))\n",
    "gender = input(\"Gender:\")\n",
    "age = float(input(\"Select your age:\"))\n",
    "\n",
    "# Calculate BMI\n",
    "bmi = round(weight / ((height / 100) ** 2), 2)\n",
    "\n",
    "# Determine body type based on BMI\n",
    "if bmi < 18.5:\n",
    "    body_type = \"Underweight\"\n",
    "elif 18.5 <= bmi < 25:\n",
    "    body_type = \"Normal Weight\"\n",
    "elif 25 <= bmi < 30:\n",
    "    body_type = \"Overweight\"\n",
    "else:\n",
    "    body_type = \"Obese\"\n",
    "\n",
    "print(\"Body Type:\", body_type)\n",
    "\n",
    "# Calculate BMR based on gender\n",
    "if gender.lower() == \"male\":\n",
    "    bmr = 88.362 + (13.397 * weight) + (4.799 * height) - (5.677 * age)\n",
    "elif gender.lower() == \"female\":\n",
    "    bmr = 447.593 + (9.247 * weight) + (3.098 * height) - (4.330 * age)\n",
    "else:\n",
    "    print(\"Invalid gender\")\n",
    "\n",
    "print(\"Basal Metabolic Rate (BMR):\", bmr)\n",
    "\n",
    "# Get user's activity level\n",
    "activity_level = input(\"Select your activity level: ['Sedentary', 'Lightly_Active', 'Moderately_Active', 'Very_Active'] \")\n",
    "\n",
    "# Activity level multiplier\n",
    "multiplier = {\n",
    "    'sedentary': 1.2,\n",
    "    'lightly_active': 1.375,\n",
    "    'moderately_active': 1.55,\n",
    "    'very_active': 1.725\n",
    "}\n",
    "\n",
    "# Calculate Total Daily Energy Expenditure (TDEE)\n",
    "tdee = bmr * multiplier.get(activity_level.lower(), 1)\n",
    "\n",
    "print(\"Total Daily Energy Expenditure (TDEE):\", tdee)\n"
   ]
  }
 ],
 "metadata": {
  "kernelspec": {
   "display_name": "Python 3 (ipykernel)",
   "language": "python",
   "name": "python3"
  },
  "language_info": {
   "codemirror_mode": {
    "name": "ipython",
    "version": 3
   },
   "file_extension": ".py",
   "mimetype": "text/x-python",
   "name": "python",
   "nbconvert_exporter": "python",
   "pygments_lexer": "ipython3",
   "version": "3.10.7"
  },
  "widgets": {
   "application/vnd.jupyter.widget-state+json": {
    "state": {},
    "version_major": 2,
    "version_minor": 0
   }
  }
 },
 "nbformat": 4,
 "nbformat_minor": 5
}
