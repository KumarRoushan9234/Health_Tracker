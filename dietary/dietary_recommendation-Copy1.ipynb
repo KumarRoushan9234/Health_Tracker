{
 "cells": [
  {
   "cell_type": "code",
   "execution_count": 33,
   "id": "28514819-5d04-468c-a20a-87a61fb8ba6c",
   "metadata": {},
   "outputs": [],
   "source": [
    "import pandas as pd\n",
    "import numpy as np"
   ]
  },
  {
   "cell_type": "code",
   "execution_count": null,
   "id": "aa2add33-bccb-4d19-88ea-a4fa47dc20cc",
   "metadata": {},
   "outputs": [],
   "source": []
  },
  {
   "cell_type": "code",
   "execution_count": 34,
   "id": "9cccdd6e-0e4f-47ae-9cd2-3a449969928b",
   "metadata": {},
   "outputs": [],
   "source": [
    "data = pd.read_csv(\"diertary_recomendation.csv\")"
   ]
  },
  {
   "cell_type": "code",
   "execution_count": null,
   "id": "96864e32-f4c2-45ad-859c-4c592b22e8df",
   "metadata": {},
   "outputs": [],
   "source": []
  },
  {
   "cell_type": "code",
   "execution_count": 35,
   "id": "67324032-05a9-40e2-a613-789f26f58079",
   "metadata": {},
   "outputs": [
    {
     "name": "stdout",
     "output_type": "stream",
     "text": [
      "891\n"
     ]
    }
   ],
   "source": [
    "print(data.shape[0])"
   ]
  },
  {
   "cell_type": "code",
   "execution_count": 36,
   "id": "f5d20a4b-ef52-4c61-8490-57bd2832ec0f",
   "metadata": {},
   "outputs": [
    {
     "name": "stdout",
     "output_type": "stream",
     "text": [
      "750\n"
     ]
    }
   ],
   "source": [
    "data.drop_duplicates(inplace=True)\n",
    "data.reset_index(drop=True, inplace=True)\n",
    "print(data.shape[0])"
   ]
  },
  {
   "cell_type": "code",
   "execution_count": 37,
   "id": "d891fc9b-5e65-476e-85f9-9a583f28b031",
   "metadata": {},
   "outputs": [],
   "source": [
    "data['Restrictions'].fillna('No Restriction', inplace=True)"
   ]
  },
  {
   "cell_type": "code",
   "execution_count": 40,
   "id": "7463e547-978e-4169-ad11-8e014bff59d3",
   "metadata": {},
   "outputs": [
    {
     "name": "stdout",
     "output_type": "stream",
     "text": [
      "['Weight loss', 'Muscle gain', 'General health', 'Indulgence']\n",
      "['Protein-Rich Foods', 'Whole Grains', 'Vegetables', 'Dairy', 'Fruits', nan, 'Vegetarian', 'Nuts', 'Spices', 'Fats', 'Sweets', 'Beverages', 'Seafood', 'Snacks', 'Condiments', 'Street Food', 'Indian', 'South Indian', 'Fusion', 'North Indian', 'Tibetan', 'Indo-Chinese', 'Gujarati', 'Rajasthani']\n",
      "['Lactose intolerant', 'No Restriction', 'Gluten-free', 'Vegetarian', 'Caffeine sensitive']\n"
     ]
    }
   ],
   "source": [
    "data.dropna()\n",
    "l3 = data['Restrictions'].unique().tolist()\n",
    "print(data['Goals'].unique().tolist())\n",
    "print(data['Preferences'].unique().tolist())\n",
    "print(l3)"
   ]
  },
  {
   "cell_type": "code",
   "execution_count": 16,
   "id": "c2990b04-e375-4e6b-986c-c1dac1d1d8d3",
   "metadata": {},
   "outputs": [
    {
     "name": "stdin",
     "output_type": "stream",
     "text": [
      "Enter your weight (kg): 165\n",
      "Enter your height (cm): 165\n",
      "Gender: male\n",
      "Select your age: 19\n"
     ]
    },
    {
     "name": "stdout",
     "output_type": "stream",
     "text": [
      "Body Type: Obese\n",
      "Basal Metabolic Rate (BMR): 2982.8390000000004\n"
     ]
    },
    {
     "name": "stdin",
     "output_type": "stream",
     "text": [
      "Select your activity level: ['Sedentary', 'Lightly_Active', 'Moderately_Active', 'Very_Active']  Lightly_Active\n"
     ]
    },
    {
     "name": "stdout",
     "output_type": "stream",
     "text": [
      "Total Daily Energy Expenditure (TDEE): 4101.403625000001\n"
     ]
    }
   ],
   "source": [
    "weight = float(input(\"Enter your weight (kg):\"))\n",
    "height = float(input(\"Enter your height (cm):\"))\n",
    "gender = input(\"Gender:\")\n",
    "age = float(input(\"Select your age:\"))\n",
    "\n",
    "# Calculate BMI\n",
    "bmi = round(weight / ((height / 100) ** 2), 2)\n",
    "\n",
    "# Determine body type based on BMI\n",
    "if bmi < 18.5:\n",
    "    body_type = \"Underweight\"\n",
    "elif 18.5 <= bmi < 25:\n",
    "    body_type = \"Normal Weight\"\n",
    "elif 25 <= bmi < 30:\n",
    "    body_type = \"Overweight\"\n",
    "else:\n",
    "    body_type = \"Obese\"\n",
    "\n",
    "print(\"Body Type:\", body_type)\n",
    "\n",
    "# Calculate BMR based on gender\n",
    "if gender.lower() == \"male\":\n",
    "    bmr = 88.362 + (13.397 * weight) + (4.799 * height) - (5.677 * age)\n",
    "elif gender.lower() == \"female\":\n",
    "    bmr = 447.593 + (9.247 * weight) + (3.098 * height) - (4.330 * age)\n",
    "else:\n",
    "    print(\"Invalid gender\")\n",
    "\n",
    "print(\"Basal Metabolic Rate (BMR):\", bmr)\n",
    "\n",
    "# Get user's activity level\n",
    "activity_level = input(\"Select your activity level: ['Sedentary', 'Lightly_Active', 'Moderately_Active', 'Very_Active'] \")\n",
    "\n",
    "# Activity level multiplier\n",
    "multiplier = {\n",
    "    'sedentary': 1.2,\n",
    "    'lightly_active': 1.375,\n",
    "    'moderately_active': 1.55,\n",
    "    'very_active': 1.725\n",
    "}\n",
    "\n",
    "# Calculate Total Daily Energy Expenditure (TDEE)\n",
    "tdee = bmr * multiplier.get(activity_level.lower(), 1)\n",
    "\n",
    "print(\"Total Daily Energy Expenditure (TDEE):\", tdee)\n"
   ]
  },
  {
   "cell_type": "raw",
   "id": "1fef80c6-0b08-48d8-ab6c-d6ab576d1406",
   "metadata": {},
   "source": []
  },
  {
   "cell_type": "code",
   "execution_count": 28,
   "id": "3ae2d70f-edf5-4643-a194-974ffd1b6881",
   "metadata": {},
   "outputs": [
    {
     "name": "stdin",
     "output_type": "stream",
     "text": [
      "Enter your goals (comma-separated):  Weight loss\n",
      "Enter your preferences (comma-separated):  Protein-Rich Foods\n",
      "Enter your restrictions (comma-separated):  No Restriction\n"
     ]
    },
    {
     "name": "stdout",
     "output_type": "stream",
     "text": [
      "                  food  calorie  protein  carbs   fat        Goals  \\\n",
      "4              Almonds        7      0.3    0.6   0.6  Weight loss   \n",
      "16       Turkey Breast      135     30.0    0.0   1.0  Weight loss   \n",
      "27        Salmon Salad      280     25.0    8.0  18.0  Weight loss   \n",
      "33       Ground Turkey      220     26.0    0.0  12.0  Weight loss   \n",
      "36     Shrimp Stir Fry      200     25.0   12.0   8.0  Weight loss   \n",
      "..                 ...      ...      ...    ...   ...          ...   \n",
      "481  Chicken Chettinad      300     25.0   10.0  15.0  Weight loss   \n",
      "503     Mutton Biryani      350     25.0   30.0  18.0  Weight loss   \n",
      "504         Soya Chaap      180     15.0   10.0   8.0  Weight loss   \n",
      "509  Mutton Rogan Josh      300     20.0   15.0  18.0  Weight loss   \n",
      "512      Chicken Tikka      200     18.0    3.0  12.0  Weight loss   \n",
      "\n",
      "            Preferences    Restrictions  \n",
      "4    Protein-Rich Foods  No Restriction  \n",
      "16   Protein-Rich Foods  No Restriction  \n",
      "27   Protein-Rich Foods  No Restriction  \n",
      "33   Protein-Rich Foods  No Restriction  \n",
      "36   Protein-Rich Foods  No Restriction  \n",
      "..                  ...             ...  \n",
      "481  Protein-Rich Foods  No Restriction  \n",
      "503  Protein-Rich Foods  No Restriction  \n",
      "504  Protein-Rich Foods  No Restriction  \n",
      "509  Protein-Rich Foods  No Restriction  \n",
      "512  Protein-Rich Foods  No Restriction  \n",
      "\n",
      "[67 rows x 8 columns]\n"
     ]
    }
   ],
   "source": [
    "user_goals = input(\"Enter your goals (comma-separated): \").split(', ')\n",
    "user_preferences = input(\"Enter your preferences (comma-separated): \").split(', ')\n",
    "user_restrictions = input(\"Enter your restrictions (comma-separated): \").split(', ')\n",
    "data['Preferences'] = data['Preferences'].astype(str)\n",
    "\n",
    "# Filter the data based on user inputs\n",
    "filtered_data = data[data['Goals'].isin(user_goals) & \n",
    "                     data['Preferences'].apply(lambda x: any(pref in user_preferences for pref in str(x).split(','))) & \n",
    "                     data['Restrictions'].apply(lambda x: any(rest in user_restrictions for rest in str(x).split(',')))]\n",
    "\n",
    "print(filtered_data)\n"
   ]
  },
  {
   "cell_type": "code",
   "execution_count": 29,
   "id": "0edc3a90-f8d0-4d09-a6da-a8fba5f9ed0c",
   "metadata": {},
   "outputs": [
    {
     "name": "stdout",
     "output_type": "stream",
     "text": [
      "                  food  Score\n",
      "4              Almonds      6\n",
      "16       Turkey Breast      6\n",
      "27        Salmon Salad      6\n",
      "33       Ground Turkey      6\n",
      "36     Shrimp Stir Fry      6\n",
      "..                 ...    ...\n",
      "481  Chicken Chettinad      6\n",
      "503     Mutton Biryani      6\n",
      "504         Soya Chaap      6\n",
      "509  Mutton Rogan Josh      6\n",
      "512      Chicken Tikka      6\n",
      "\n",
      "[67 rows x 2 columns]\n"
     ]
    },
    {
     "name": "stderr",
     "output_type": "stream",
     "text": [
      "C:\\Users\\hp\\AppData\\Local\\Temp\\ipykernel_18884\\2109061273.py:7: SettingWithCopyWarning: \n",
      "A value is trying to be set on a copy of a slice from a DataFrame.\n",
      "Try using .loc[row_indexer,col_indexer] = value instead\n",
      "\n",
      "See the caveats in the documentation: https://pandas.pydata.org/pandas-docs/stable/user_guide/indexing.html#returning-a-view-versus-a-copy\n",
      "  filtered_data['Score'] = (\n"
     ]
    }
   ],
   "source": [
    "# Define weights (you can adjust these based on your preferences)\n",
    "goal_weight = 3\n",
    "preference_weight = 2\n",
    "restriction_weight = 1\n",
    "\n",
    "# Calculate the score for each item\n",
    "filtered_data['Score'] = (\n",
    "    filtered_data['Goals'].apply(lambda x: goal_weight if x in user_goals else 0) +\n",
    "    filtered_data['Preferences'].apply(lambda x: preference_weight if any(pref in user_preferences for pref in x.split(',')) else 0) +\n",
    "    filtered_data['Restrictions'].apply(lambda x: restriction_weight if any(rest in user_restrictions for rest in x.split(',')) else 0)\n",
    ")\n",
    "\n",
    "# Display the DataFrame with scores\n",
    "print(filtered_data[['food', 'Score']])"
   ]
  },
  {
   "cell_type": "code",
   "execution_count": 30,
   "id": "61beb945-eeb3-4783-a7f9-12c31a3ce444",
   "metadata": {},
   "outputs": [
    {
     "name": "stdout",
     "output_type": "stream",
     "text": [
      "Top Recommendations:\n",
      "                             food  Score\n",
      "4                         Almonds      6\n",
      "397                Chicken Masala      6\n",
      "319           Greek Chicken Salad      6\n",
      "321          Baked Chicken Thighs      6\n",
      "323             Turkey Club Salad      6\n",
      "..                            ...    ...\n",
      "269                  BLT Sandwich      6\n",
      "278                   Caesar Wrap      6\n",
      "288          Chicken Caesar Salad      6\n",
      "295  Turkey and Cheese Quesadilla      6\n",
      "512                 Chicken Tikka      6\n",
      "\n",
      "[67 rows x 2 columns]\n"
     ]
    }
   ],
   "source": [
    "recommended_food = filtered_data.sort_values(by='Score', ascending=False)\n",
    "\n",
    "# Display recommendations\n",
    "print(\"Top Recommendations:\")\n",
    "print(recommended_food[['food', 'Score']])"
   ]
  },
  {
   "cell_type": "code",
   "execution_count": null,
   "id": "74d25c5c-47da-440d-8ade-3d8d7c6b6d3d",
   "metadata": {},
   "outputs": [],
   "source": []
  }
 ],
 "metadata": {
  "kernelspec": {
   "display_name": "Python 3 (ipykernel)",
   "language": "python",
   "name": "python3"
  },
  "language_info": {
   "codemirror_mode": {
    "name": "ipython",
    "version": 3
   },
   "file_extension": ".py",
   "mimetype": "text/x-python",
   "name": "python",
   "nbconvert_exporter": "python",
   "pygments_lexer": "ipython3",
   "version": "3.10.7"
  },
  "widgets": {
   "application/vnd.jupyter.widget-state+json": {
    "state": {},
    "version_major": 2,
    "version_minor": 0
   }
  }
 },
 "nbformat": 4,
 "nbformat_minor": 5
}
