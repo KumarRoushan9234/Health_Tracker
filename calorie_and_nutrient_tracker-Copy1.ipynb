{
 "cells": [
  {
   "cell_type": "code",
   "execution_count": 62,
   "id": "cb5ac6c6-91cb-4892-8f24-164e8deb4127",
   "metadata": {},
   "outputs": [],
   "source": [
    "import pandas as pd\n",
    "import numpy as np\n",
    "import matplotlib.pyplot as plt\n",
    "import seaborn as sns\n",
    "from fuzzywuzzy import process"
   ]
  },
  {
   "cell_type": "code",
   "execution_count": 63,
   "id": "9d3e5df9-ed58-4914-8b41-70d96d3b98a3",
   "metadata": {},
   "outputs": [
    {
     "name": "stdout",
     "output_type": "stream",
     "text": [
      "891\n"
     ]
    }
   ],
   "source": [
    "df=pd.read_csv(\"Calorie_and_Nutrients.csv\")\n",
    "df.head()\n",
    "print(df.shape[0])"
   ]
  },
  {
   "cell_type": "code",
   "execution_count": 64,
   "id": "0d8a5508-9358-4667-82aa-fd4ffbbc23b3",
   "metadata": {},
   "outputs": [],
   "source": [
    "df.drop([\"Minerals.1\",\"Goals\",\"Preferences\",\"Restrictions\"], axis=1, inplace=True)"
   ]
  },
  {
   "cell_type": "code",
   "execution_count": 65,
   "id": "781c9fc1-e15a-4208-ad99-441d5d6f2e7b",
   "metadata": {},
   "outputs": [
    {
     "data": {
      "text/html": [
       "<div>\n",
       "<style scoped>\n",
       "    .dataframe tbody tr th:only-of-type {\n",
       "        vertical-align: middle;\n",
       "    }\n",
       "\n",
       "    .dataframe tbody tr th {\n",
       "        vertical-align: top;\n",
       "    }\n",
       "\n",
       "    .dataframe thead th {\n",
       "        text-align: right;\n",
       "    }\n",
       "</style>\n",
       "<table border=\"1\" class=\"dataframe\">\n",
       "  <thead>\n",
       "    <tr style=\"text-align: right;\">\n",
       "      <th></th>\n",
       "      <th>food</th>\n",
       "      <th>calorie</th>\n",
       "      <th>protein</th>\n",
       "      <th>carbs</th>\n",
       "      <th>fat</th>\n",
       "      <th>Sugar</th>\n",
       "      <th>Fiber</th>\n",
       "      <th>Sodium</th>\n",
       "      <th>Vitamins</th>\n",
       "      <th>Minerals</th>\n",
       "    </tr>\n",
       "  </thead>\n",
       "  <tbody>\n",
       "    <tr>\n",
       "      <th>0</th>\n",
       "      <td>Chicken Breast</td>\n",
       "      <td>165</td>\n",
       "      <td>31.0</td>\n",
       "      <td>0.0</td>\n",
       "      <td>3.6</td>\n",
       "      <td>0.5</td>\n",
       "      <td>0.0</td>\n",
       "      <td>0.075</td>\n",
       "      <td>0.002</td>\n",
       "      <td>0.001</td>\n",
       "    </tr>\n",
       "    <tr>\n",
       "      <th>1</th>\n",
       "      <td>Salmon</td>\n",
       "      <td>206</td>\n",
       "      <td>22.0</td>\n",
       "      <td>0.0</td>\n",
       "      <td>13.0</td>\n",
       "      <td>0.0</td>\n",
       "      <td>0.0</td>\n",
       "      <td>0.050</td>\n",
       "      <td>0.010</td>\n",
       "      <td>0.002</td>\n",
       "    </tr>\n",
       "    <tr>\n",
       "      <th>2</th>\n",
       "      <td>Brown Rice</td>\n",
       "      <td>215</td>\n",
       "      <td>5.0</td>\n",
       "      <td>1.6</td>\n",
       "      <td>45.0</td>\n",
       "      <td>0.0</td>\n",
       "      <td>3.0</td>\n",
       "      <td>0.000</td>\n",
       "      <td>0.001</td>\n",
       "      <td>0.003</td>\n",
       "    </tr>\n",
       "    <tr>\n",
       "      <th>3</th>\n",
       "      <td>Broccoli</td>\n",
       "      <td>55</td>\n",
       "      <td>3.7</td>\n",
       "      <td>0.6</td>\n",
       "      <td>11.0</td>\n",
       "      <td>1.0</td>\n",
       "      <td>2.0</td>\n",
       "      <td>0.030</td>\n",
       "      <td>0.003</td>\n",
       "      <td>0.002</td>\n",
       "    </tr>\n",
       "    <tr>\n",
       "      <th>4</th>\n",
       "      <td>Almonds</td>\n",
       "      <td>7</td>\n",
       "      <td>0.3</td>\n",
       "      <td>0.6</td>\n",
       "      <td>0.6</td>\n",
       "      <td>0.2</td>\n",
       "      <td>1.0</td>\n",
       "      <td>0.000</td>\n",
       "      <td>0.000</td>\n",
       "      <td>0.001</td>\n",
       "    </tr>\n",
       "  </tbody>\n",
       "</table>\n",
       "</div>"
      ],
      "text/plain": [
       "             food  calorie  protein  carbs   fat  Sugar  Fiber  Sodium  \\\n",
       "0  Chicken Breast      165     31.0    0.0   3.6    0.5    0.0   0.075   \n",
       "1          Salmon      206     22.0    0.0  13.0    0.0    0.0   0.050   \n",
       "2      Brown Rice      215      5.0    1.6  45.0    0.0    3.0   0.000   \n",
       "3        Broccoli       55      3.7    0.6  11.0    1.0    2.0   0.030   \n",
       "4         Almonds        7      0.3    0.6   0.6    0.2    1.0   0.000   \n",
       "\n",
       "   Vitamins  Minerals  \n",
       "0     0.002     0.001  \n",
       "1     0.010     0.002  \n",
       "2     0.001     0.003  \n",
       "3     0.003     0.002  \n",
       "4     0.000     0.001  "
      ]
     },
     "execution_count": 65,
     "metadata": {},
     "output_type": "execute_result"
    }
   ],
   "source": [
    "# df[\"Fiber\"]=df[\"Fiber\"]/1000\n",
    "df[\"Sodium\"]=df[\"Sodium\"]/1000\n",
    "df[\"Vitamins\"]=df[\"Vitamins\"]/1000\n",
    "df[\"Minerals\"]=df[\"Minerals\"]/1000\n",
    "df[\"Sodium\"]=df[\"Sodium\"].round(6)\n",
    "df[\"Vitamins\"]=df[\"Vitamins\"].round(6)\n",
    "df[\"Minerals\"]=df[\"Minerals\"].round(6)\n",
    "df.head()"
   ]
  },
  {
   "cell_type": "code",
   "execution_count": 66,
   "id": "4f6fd908-d381-48bc-bd39-5416c4cfda79",
   "metadata": {},
   "outputs": [
    {
     "name": "stdout",
     "output_type": "stream",
     "text": [
      "761\n"
     ]
    }
   ],
   "source": [
    "df.drop_duplicates(inplace=True)\n",
    "df.reset_index(drop=True, inplace=True)\n",
    "print(df.shape[0])"
   ]
  },
  {
   "cell_type": "code",
   "execution_count": 21,
   "id": "6e893dd3-dad6-457d-a2c1-d423ed644e03",
   "metadata": {},
   "outputs": [],
   "source": [
    "# goal = df['Goals'].unique()\n",
    "# preference = df['Preferences'].unique()\n",
    "# restriction = df['Restrictions'].unique()\n",
    "# print(goal)\n",
    "# print(preference)"
   ]
  },
  {
   "cell_type": "code",
   "execution_count": 67,
   "id": "f7809775-8af9-4228-8285-985c146cb28e",
   "metadata": {},
   "outputs": [],
   "source": [
    "df1 = df.copy()"
   ]
  },
  {
   "cell_type": "code",
   "execution_count": 68,
   "id": "bf2157c8-544d-42ec-aec7-9fc06ca122d9",
   "metadata": {},
   "outputs": [],
   "source": [
    "def match_food(x,df,serv):\n",
    "    match_food, similar_score = process.extractOne(x.capitalize(), df['food'].str.capitalize().values)\n",
    "    print(match_food, similar_score)\n",
    "    try:\n",
    "        if similar_score>=80:\n",
    "            row = df.loc[df['food'].str.capitalize() == match_food.capitalize()]\n",
    "            calorie = float(row['calorie'].values[0])\n",
    "            protein = float(row['protein'].values[0])\n",
    "            carbs = float(row['carbs'].values[0])\n",
    "            fat = float(row['fat'].values[0])\n",
    "            sugar = float(row['Sugar'].values[0])\n",
    "            fiber = float(row['Fiber'].values[0])\n",
    "            sodium = float(row['Sodium'].values[0])\n",
    "            vitamin = float(row['Vitamins'].values[0])\n",
    "            mineral = float(row['Minerals'].values[0])\n",
    "        # print(\"Serving : \",serv)\n",
    "        # print(\"Calorie : \",calorie*serv)\n",
    "        # print(\"Protein : \",protein*serv)\n",
    "        # print(\"Carbs : \",carbs*serv)\n",
    "        # print(\"Fat : \",fat*serv)\n",
    "        # print(\"Sugar : \",sugar*serv)\n",
    "        # print(\"Fiber : \",fiber*serv)\n",
    "        # print(\"Sodium : \",sodium*serv)\n",
    "        # print(\"Vitamins : \",vitamin*serv)\n",
    "        # print(\"Minerals : \",mineral*serv)\n",
    "        return (calorie*serv,protein*serv,carbs*serv,fat*serv,sugar*serv,fiber*serv,sodium*serv,vitamin*serv,mineral*serv,match_food)\n",
    "    except Exception as e:\n",
    "        print(\"Error:\", e)\n",
    "        return None\n",
    "    \n"
   ]
  },
  {
   "cell_type": "code",
   "execution_count": 70,
   "id": "e924519a-c933-44d3-8dd1-6ac6e08df197",
   "metadata": {},
   "outputs": [
    {
     "name": "stdin",
     "output_type": "stream",
     "text": [
      "Enter Food:  samosa\n",
      "No.of Serving:  2\n"
     ]
    },
    {
     "name": "stdout",
     "output_type": "stream",
     "text": [
      "Samosa 100\n"
     ]
    },
    {
     "name": "stdin",
     "output_type": "stream",
     "text": [
      "Enter Food:  pasta 2\n",
      "No.of Serving:  2\n"
     ]
    },
    {
     "name": "stdout",
     "output_type": "stream",
     "text": [
      "Pasta primavera 86\n"
     ]
    },
    {
     "name": "stdin",
     "output_type": "stream",
     "text": [
      "Enter Food:  pizza paneer\n",
      "No.of Serving:  1\n"
     ]
    },
    {
     "name": "stdout",
     "output_type": "stream",
     "text": [
      "Vegetarian margherita pizza 86\n"
     ]
    },
    {
     "name": "stdin",
     "output_type": "stream",
     "text": [
      "Enter Food:  milk\n",
      "No.of Serving:  1\n"
     ]
    },
    {
     "name": "stdout",
     "output_type": "stream",
     "text": [
      "Milk 100\n"
     ]
    },
    {
     "name": "stdin",
     "output_type": "stream",
     "text": [
      "Enter Food:  stop\n",
      "No.of Serving:  1\n"
     ]
    },
    {
     "name": "stdout",
     "output_type": "stream",
     "text": [
      "Total Calorie:  1183.0\n",
      "Total Protien:  42.0\n",
      "Total Carbs:  182.0\n",
      "Total Fat:  30.4\n",
      "Total Sugar:  20.0\n",
      "Total Fiber:  23.0\n",
      "Total Sodium:  0.872\n",
      "Total Vitamin:  0.05\n",
      "Total Mineral:  0.007\n",
      "{'Samosa': {'Serving': 2, 'Calorie': 300.0, 'Protein': 6.0, 'Carbs': 40.0, 'Fat': 14.0, 'Sugar': 2.0, 'Fiber': 4.0, 'Sodium(mg)': 0.4, 'Vitamin(mg)': 0.004, 'Mineral(mg)': 0.002}, 'Pasta primavera': {'Serving': 2, 'Calorie': 500.0, 'Protein': 16.0, 'Carbs': 100.0, 'Fat': 4.0, 'Sugar': 4.0, 'Fiber': 16.0, 'Sodium(mg)': 0.02, 'Vitamin(mg)': 0.012, 'Mineral(mg)': 0.002}, 'Vegetarian margherita pizza': {'Serving': 1, 'Calorie': 280.0, 'Protein': 12.0, 'Carbs': 30.0, 'Fat': 10.0, 'Sugar': 2.0, 'Fiber': 3.0, 'Sodium(mg)': 0.35, 'Vitamin(mg)': 0.012, 'Mineral(mg)': 0.001}, 'Milk': {'Serving': 1, 'Calorie': 103.0, 'Protein': 8.0, 'Carbs': 12.0, 'Fat': 2.4, 'Sugar': 12.0, 'Fiber': 0.0, 'Sodium(mg)': 0.102, 'Vitamin(mg)': 0.022, 'Mineral(mg)': 0.002}}\n"
     ]
    }
   ],
   "source": [
    "total_cal=0.0\n",
    "total_pro=0.0\n",
    "total_carb=0.0\n",
    "total_fat=0.0\n",
    "total_sugar=0.0\n",
    "total_fiber=0.0\n",
    "total_sodium=0.0\n",
    "total_vitamin=0.0\n",
    "total_mineral=0.0\n",
    "dict = {}\n",
    "while True:\n",
    "    x=input(\"Enter Food: \")\n",
    "    if x.lower()==\"stop\":\n",
    "        break\n",
    "    else:\n",
    "        serv = int(input(\"No.of Serving: \"))\n",
    "        cal,pro,carb,fat,sugar,fib,sod,vit,mine,match = match_food(x,df,serv)\n",
    "        if cal is not None:\n",
    "            total_cal+=cal\n",
    "            total_pro+=pro\n",
    "            total_carb+=carb\n",
    "            total_fat+=fat\n",
    "            total_sugar+=sugar\n",
    "            total_fiber+=fib\n",
    "            total_sodium+=sod\n",
    "            total_vitamin+=vit\n",
    "            total_mineral+=mine\n",
    "            dict[match]={\"Serving\":serv,\"Calorie\":cal,\"Protein\":pro,\"Carbs\":carb,\"Fat\":fat,\"Sugar\":sugar,\"Fiber\":fib,\"Sodium(mg)\":sod,\"Vitamin(mg)\":vit,\"Mineral(mg)\":mine}\n",
    "        else:\n",
    "            print(\"Enter Again\")\n",
    "    \n",
    "print(\"Total Calorie: \",total_cal)\n",
    "print(\"Total Protien: \",total_pro)\n",
    "print(\"Total Carbs: \",total_carb)\n",
    "print(\"Total Fat: \",total_fat)\n",
    "print(\"Total Sugar: \",total_sugar)\n",
    "print(\"Total Fiber: \",total_fiber)\n",
    "print(\"Total Sodium: \",total_sodium)\n",
    "print(\"Total Vitamin: \",total_vitamin)\n",
    "print(\"Total Mineral: \",total_mineral)\n",
    "print(dict)"
   ]
  },
  {
   "cell_type": "code",
   "execution_count": null,
   "id": "67b57112-3b91-4367-8400-971bde2cfe0d",
   "metadata": {},
   "outputs": [],
   "source": []
  },
  {
   "cell_type": "code",
   "execution_count": null,
   "id": "cc1ea7e7-10a4-442d-9d8c-8d2718e4a4b6",
   "metadata": {},
   "outputs": [],
   "source": []
  },
  {
   "cell_type": "code",
   "execution_count": null,
   "id": "927c4507-3f4d-425e-ba24-f1df3f96a957",
   "metadata": {},
   "outputs": [],
   "source": []
  }
 ],
 "metadata": {
  "kernelspec": {
   "display_name": "Python 3 (ipykernel)",
   "language": "python",
   "name": "python3"
  },
  "language_info": {
   "codemirror_mode": {
    "name": "ipython",
    "version": 3
   },
   "file_extension": ".py",
   "mimetype": "text/x-python",
   "name": "python",
   "nbconvert_exporter": "python",
   "pygments_lexer": "ipython3",
   "version": "3.10.7"
  },
  "widgets": {
   "application/vnd.jupyter.widget-state+json": {
    "state": {},
    "version_major": 2,
    "version_minor": 0
   }
  }
 },
 "nbformat": 4,
 "nbformat_minor": 5
}
