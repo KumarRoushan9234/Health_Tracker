{
 "cells": [
  {
   "cell_type": "code",
   "execution_count": 10,
   "id": "75b7508f-7d58-48e5-bb16-d53b4ca99fbc",
   "metadata": {},
   "outputs": [],
   "source": [
    "import pandas as pd\n",
    "from sklearn.preprocessing import StandardScaler\n",
    "from sklearn.preprocessing import LabelEncoder\n",
    "from sklearn.model_selection import train_test_split\n"
   ]
  },
  {
   "cell_type": "code",
   "execution_count": 2,
   "id": "468c9166-d028-416e-b7fd-926b2cc774b6",
   "metadata": {},
   "outputs": [],
   "source": [
    "df = pd.read_csv(\"exercise_1.csv\")"
   ]
  },
  {
   "cell_type": "code",
   "execution_count": 3,
   "id": "2866093b-550b-4c16-bb79-67630d2f28fb",
   "metadata": {},
   "outputs": [
    {
     "data": {
      "text/html": [
       "<div>\n",
       "<style scoped>\n",
       "    .dataframe tbody tr th:only-of-type {\n",
       "        vertical-align: middle;\n",
       "    }\n",
       "\n",
       "    .dataframe tbody tr th {\n",
       "        vertical-align: top;\n",
       "    }\n",
       "\n",
       "    .dataframe thead th {\n",
       "        text-align: right;\n",
       "    }\n",
       "</style>\n",
       "<table border=\"1\" class=\"dataframe\">\n",
       "  <thead>\n",
       "    <tr style=\"text-align: right;\">\n",
       "      <th></th>\n",
       "      <th>id</th>\n",
       "      <th>age</th>\n",
       "      <th>height</th>\n",
       "      <th>weight</th>\n",
       "      <th>gender</th>\n",
       "      <th>goal</th>\n",
       "      <th>time</th>\n",
       "      <th>equipment</th>\n",
       "      <th>aerobic</th>\n",
       "      <th>strength_training</th>\n",
       "      <th>intensity</th>\n",
       "    </tr>\n",
       "  </thead>\n",
       "  <tbody>\n",
       "    <tr>\n",
       "      <th>0</th>\n",
       "      <td>1</td>\n",
       "      <td>26</td>\n",
       "      <td>175</td>\n",
       "      <td>68</td>\n",
       "      <td>Male</td>\n",
       "      <td>build_muscle</td>\n",
       "      <td>45</td>\n",
       "      <td>dumbbells</td>\n",
       "      <td>Jogging</td>\n",
       "      <td>Weight Lifting</td>\n",
       "      <td>Moderate</td>\n",
       "    </tr>\n",
       "    <tr>\n",
       "      <th>1</th>\n",
       "      <td>2</td>\n",
       "      <td>48</td>\n",
       "      <td>180</td>\n",
       "      <td>80</td>\n",
       "      <td>Female</td>\n",
       "      <td>stay_fit</td>\n",
       "      <td>80</td>\n",
       "      <td>treadmill</td>\n",
       "      <td>Cycling</td>\n",
       "      <td>Weight Lifting</td>\n",
       "      <td>Intense</td>\n",
       "    </tr>\n",
       "    <tr>\n",
       "      <th>2</th>\n",
       "      <td>3</td>\n",
       "      <td>34</td>\n",
       "      <td>162</td>\n",
       "      <td>58</td>\n",
       "      <td>Male</td>\n",
       "      <td>lose_weight</td>\n",
       "      <td>45</td>\n",
       "      <td>jump_rope</td>\n",
       "      <td>Cycling</td>\n",
       "      <td>Bodyweight</td>\n",
       "      <td>Moderate</td>\n",
       "    </tr>\n",
       "    <tr>\n",
       "      <th>3</th>\n",
       "      <td>4</td>\n",
       "      <td>53</td>\n",
       "      <td>168</td>\n",
       "      <td>75</td>\n",
       "      <td>Female</td>\n",
       "      <td>build_muscle</td>\n",
       "      <td>60</td>\n",
       "      <td>barbell</td>\n",
       "      <td>Weight Lifting</td>\n",
       "      <td>Bodyweight</td>\n",
       "      <td>Intense</td>\n",
       "    </tr>\n",
       "    <tr>\n",
       "      <th>4</th>\n",
       "      <td>5</td>\n",
       "      <td>29</td>\n",
       "      <td>170</td>\n",
       "      <td>72</td>\n",
       "      <td>Male</td>\n",
       "      <td>stay_fit</td>\n",
       "      <td>40</td>\n",
       "      <td>bodyweight_exercises</td>\n",
       "      <td>Dancing</td>\n",
       "      <td>Bodyweight</td>\n",
       "      <td>Moderate</td>\n",
       "    </tr>\n",
       "  </tbody>\n",
       "</table>\n",
       "</div>"
      ],
      "text/plain": [
       "   id  age  height  weight  gender          goal  time             equipment  \\\n",
       "0   1   26     175      68    Male  build_muscle    45             dumbbells   \n",
       "1   2   48     180      80  Female      stay_fit    80             treadmill   \n",
       "2   3   34     162      58    Male   lose_weight    45             jump_rope   \n",
       "3   4   53     168      75  Female  build_muscle    60               barbell   \n",
       "4   5   29     170      72    Male      stay_fit    40  bodyweight_exercises   \n",
       "\n",
       "          aerobic strength_training intensity  \n",
       "0         Jogging    Weight Lifting  Moderate  \n",
       "1         Cycling    Weight Lifting   Intense  \n",
       "2         Cycling        Bodyweight  Moderate  \n",
       "3  Weight Lifting        Bodyweight   Intense  \n",
       "4         Dancing        Bodyweight  Moderate  "
      ]
     },
     "execution_count": 3,
     "metadata": {},
     "output_type": "execute_result"
    }
   ],
   "source": [
    "df.head()"
   ]
  },
  {
   "cell_type": "code",
   "execution_count": 4,
   "id": "63bd9e81-61e0-4f08-bb32-894a70e3e4bf",
   "metadata": {},
   "outputs": [],
   "source": [
    "df.drop(\"id\",axis=1,inplace=True)\n",
    "df.drop(\"equipment\",axis=1,inplace=True)\n",
    "df.drop(\"aerobic\",axis=1,inplace=True)\n",
    "df.drop(\"intensity\",axis=1,inplace=True)\n",
    "df.drop(\"time\",axis=1,inplace=True)"
   ]
  },
  {
   "cell_type": "code",
   "execution_count": 5,
   "id": "0f282d18-087c-4661-87db-ad2e8953df02",
   "metadata": {},
   "outputs": [
    {
     "name": "stdout",
     "output_type": "stream",
     "text": [
      "['build_muscle' 'stay_fit' 'lose_weight']\n",
      "['Weight Lifting' 'Bodyweight' 'Weight Machine' 'Resistance Band']\n",
      "['Male' 'Female']\n"
     ]
    }
   ],
   "source": [
    "df.head(10)\n",
    "print(df['goal'].unique())\n",
    "print(df['strength_training'].unique())\n",
    "print(df['gender'].unique())"
   ]
  },
  {
   "cell_type": "code",
   "execution_count": 6,
   "id": "5a1762a3-d02a-4ac2-a896-35082b6d3215",
   "metadata": {},
   "outputs": [],
   "source": [
    "from sklearn.preprocessing import LabelEncoder\n",
    "encoder = LabelEncoder()"
   ]
  },
  {
   "cell_type": "code",
   "execution_count": 7,
   "id": "362bbbba-1f77-457b-ac5c-864902a7fea7",
   "metadata": {},
   "outputs": [],
   "source": [
    "df['gender']=encoder.fit_transform(df['gender'])\n",
    "df['strength_training']=encoder.fit_transform(df['strength_training'])\n",
    "df['goal']=encoder.fit_transform(df['goal'])"
   ]
  },
  {
   "cell_type": "code",
   "execution_count": 8,
   "id": "a9617507-dee2-4a08-bf29-e90c4a754ae7",
   "metadata": {},
   "outputs": [
    {
     "name": "stdout",
     "output_type": "stream",
     "text": [
      "[0 2 1]\n",
      "[2 0 3 1]\n",
      "[1 0]\n"
     ]
    }
   ],
   "source": [
    "print(df['goal'].unique())\n",
    "print(df['strength_training'].unique())\n",
    "print(df['gender'].unique())"
   ]
  },
  {
   "cell_type": "code",
   "execution_count": null,
   "id": "83ea2ad7-2f46-48dc-b94a-fa0c17d0b3cc",
   "metadata": {
    "scrolled": true
   },
   "outputs": [],
   "source": []
  },
  {
   "cell_type": "code",
   "execution_count": 11,
   "id": "6c4faba8-57b5-4801-8f17-e423b70cf1b7",
   "metadata": {},
   "outputs": [],
   "source": [
    "X = df.drop('strength_training', axis=1)\n",
    "y = df['strength_training']\n",
    "\n",
    "# Split the data into training and testing sets\n",
    "X_train, X_test, y_train, y_test = train_test_split(X, y, test_size=0.2, random_state=42)"
   ]
  },
  {
   "cell_type": "code",
   "execution_count": 17,
   "id": "dedfab6a-521e-4d05-a3c9-1c03975a3419",
   "metadata": {},
   "outputs": [],
   "source": [
    "# print(X_train)\n",
    "# print(X_test)\n",
    "# print(y_train)\n",
    "# print(y_test)"
   ]
  },
  {
   "cell_type": "code",
   "execution_count": 14,
   "id": "b2bd7ce8-0b4b-481f-b8a8-3fb20bd7193a",
   "metadata": {},
   "outputs": [],
   "source": [
    "scaler = StandardScaler()\n",
    "X_train[['age', 'height', 'weight','gender','goal']] = scaler.fit_transform(X_train[['age', 'height', 'weight','gender','goal']])\n",
    "X_test[['age', 'height', 'weight','gender','goal']] = scaler.transform(X_test[['age', 'height', 'weight','gender','goal']])"
   ]
  },
  {
   "cell_type": "code",
   "execution_count": 18,
   "id": "02876cd6-df31-46cc-b10a-c370aeedf7f0",
   "metadata": {},
   "outputs": [
    {
     "name": "stdout",
     "output_type": "stream",
     "text": [
      "          age    height    weight    gender      goal\n",
      "451  0.554537  0.742432  1.106709 -0.986206  1.092616\n",
      "324 -1.167539  0.322261 -0.705885  1.013987  1.092616\n",
      "401  0.458866  1.442717  1.319955 -0.986206  1.092616\n",
      "222    0\n",
      "118    0\n",
      "283    2\n",
      "Name: strength_training, dtype: int32\n"
     ]
    }
   ],
   "source": [
    "print(X_train.sample(3))\n",
    "print(y_train.sample(3))"
   ]
  },
  {
   "cell_type": "code",
   "execution_count": 81,
   "id": "05d08a6e-30c6-48a2-8342-95b053a7b9cb",
   "metadata": {},
   "outputs": [],
   "source": [
    "# y_train = scaler.fit_transform(y_train)\n",
    "# y_test[['aerobic']] = scaler.transform(y_test[['aerobic']])"
   ]
  },
  {
   "cell_type": "code",
   "execution_count": 19,
   "id": "8b9d8128-5052-4ecb-adbb-3346e494de42",
   "metadata": {},
   "outputs": [
    {
     "data": {
      "text/html": [
       "<style>#sk-container-id-1 {color: black;}#sk-container-id-1 pre{padding: 0;}#sk-container-id-1 div.sk-toggleable {background-color: white;}#sk-container-id-1 label.sk-toggleable__label {cursor: pointer;display: block;width: 100%;margin-bottom: 0;padding: 0.3em;box-sizing: border-box;text-align: center;}#sk-container-id-1 label.sk-toggleable__label-arrow:before {content: \"▸\";float: left;margin-right: 0.25em;color: #696969;}#sk-container-id-1 label.sk-toggleable__label-arrow:hover:before {color: black;}#sk-container-id-1 div.sk-estimator:hover label.sk-toggleable__label-arrow:before {color: black;}#sk-container-id-1 div.sk-toggleable__content {max-height: 0;max-width: 0;overflow: hidden;text-align: left;background-color: #f0f8ff;}#sk-container-id-1 div.sk-toggleable__content pre {margin: 0.2em;color: black;border-radius: 0.25em;background-color: #f0f8ff;}#sk-container-id-1 input.sk-toggleable__control:checked~div.sk-toggleable__content {max-height: 200px;max-width: 100%;overflow: auto;}#sk-container-id-1 input.sk-toggleable__control:checked~label.sk-toggleable__label-arrow:before {content: \"▾\";}#sk-container-id-1 div.sk-estimator input.sk-toggleable__control:checked~label.sk-toggleable__label {background-color: #d4ebff;}#sk-container-id-1 div.sk-label input.sk-toggleable__control:checked~label.sk-toggleable__label {background-color: #d4ebff;}#sk-container-id-1 input.sk-hidden--visually {border: 0;clip: rect(1px 1px 1px 1px);clip: rect(1px, 1px, 1px, 1px);height: 1px;margin: -1px;overflow: hidden;padding: 0;position: absolute;width: 1px;}#sk-container-id-1 div.sk-estimator {font-family: monospace;background-color: #f0f8ff;border: 1px dotted black;border-radius: 0.25em;box-sizing: border-box;margin-bottom: 0.5em;}#sk-container-id-1 div.sk-estimator:hover {background-color: #d4ebff;}#sk-container-id-1 div.sk-parallel-item::after {content: \"\";width: 100%;border-bottom: 1px solid gray;flex-grow: 1;}#sk-container-id-1 div.sk-label:hover label.sk-toggleable__label {background-color: #d4ebff;}#sk-container-id-1 div.sk-serial::before {content: \"\";position: absolute;border-left: 1px solid gray;box-sizing: border-box;top: 0;bottom: 0;left: 50%;z-index: 0;}#sk-container-id-1 div.sk-serial {display: flex;flex-direction: column;align-items: center;background-color: white;padding-right: 0.2em;padding-left: 0.2em;position: relative;}#sk-container-id-1 div.sk-item {position: relative;z-index: 1;}#sk-container-id-1 div.sk-parallel {display: flex;align-items: stretch;justify-content: center;background-color: white;position: relative;}#sk-container-id-1 div.sk-item::before, #sk-container-id-1 div.sk-parallel-item::before {content: \"\";position: absolute;border-left: 1px solid gray;box-sizing: border-box;top: 0;bottom: 0;left: 50%;z-index: -1;}#sk-container-id-1 div.sk-parallel-item {display: flex;flex-direction: column;z-index: 1;position: relative;background-color: white;}#sk-container-id-1 div.sk-parallel-item:first-child::after {align-self: flex-end;width: 50%;}#sk-container-id-1 div.sk-parallel-item:last-child::after {align-self: flex-start;width: 50%;}#sk-container-id-1 div.sk-parallel-item:only-child::after {width: 0;}#sk-container-id-1 div.sk-dashed-wrapped {border: 1px dashed gray;margin: 0 0.4em 0.5em 0.4em;box-sizing: border-box;padding-bottom: 0.4em;background-color: white;}#sk-container-id-1 div.sk-label label {font-family: monospace;font-weight: bold;display: inline-block;line-height: 1.2em;}#sk-container-id-1 div.sk-label-container {text-align: center;}#sk-container-id-1 div.sk-container {/* jupyter's `normalize.less` sets `[hidden] { display: none; }` but bootstrap.min.css set `[hidden] { display: none !important; }` so we also need the `!important` here to be able to override the default hidden behavior on the sphinx rendered scikit-learn.org. See: https://github.com/scikit-learn/scikit-learn/issues/21755 */display: inline-block !important;position: relative;}#sk-container-id-1 div.sk-text-repr-fallback {display: none;}</style><div id=\"sk-container-id-1\" class=\"sk-top-container\"><div class=\"sk-text-repr-fallback\"><pre>LogisticRegression()</pre><b>In a Jupyter environment, please rerun this cell to show the HTML representation or trust the notebook. <br />On GitHub, the HTML representation is unable to render, please try loading this page with nbviewer.org.</b></div><div class=\"sk-container\" hidden><div class=\"sk-item\"><div class=\"sk-estimator sk-toggleable\"><input class=\"sk-toggleable__control sk-hidden--visually\" id=\"sk-estimator-id-1\" type=\"checkbox\" checked><label for=\"sk-estimator-id-1\" class=\"sk-toggleable__label sk-toggleable__label-arrow\">LogisticRegression</label><div class=\"sk-toggleable__content\"><pre>LogisticRegression()</pre></div></div></div></div></div>"
      ],
      "text/plain": [
       "LogisticRegression()"
      ]
     },
     "execution_count": 19,
     "metadata": {},
     "output_type": "execute_result"
    }
   ],
   "source": [
    "from sklearn.linear_model import LogisticRegression\n",
    "model1 = LogisticRegression()\n",
    "model1.fit(X_train, y_train)"
   ]
  },
  {
   "cell_type": "code",
   "execution_count": 20,
   "id": "11c22b58-f719-4f9c-8f41-9353cb8dfcb4",
   "metadata": {},
   "outputs": [
    {
     "name": "stdout",
     "output_type": "stream",
     "text": [
      "[0 0 0 0 0 0 0 0 0 0 0 0 2 0 0 0 0 2 0 0 0 0 0 1 0 0 2 0 2 0 0 1 3 0 0 0 0\n",
      " 0 1 0 2 0 2 0 0 0 0 1 0 2 0 0 0 0 0 3 0 0 2 0 0 1 1 0 2 0 2 0 0 0 0 0 0 0\n",
      " 0 2 2 0 0 0 0 0 0 0 2 0 0 0 1 2 0 0 0 0 1 0 0 0 2 0 0 1 0 0 0 0 0 0]\n"
     ]
    }
   ],
   "source": [
    "y_pred = model1.predict(X_test)\n",
    "print(y_pred)"
   ]
  },
  {
   "cell_type": "code",
   "execution_count": 21,
   "id": "a896f808-f71d-4ad7-8bb7-4334ae411d10",
   "metadata": {},
   "outputs": [
    {
     "name": "stdout",
     "output_type": "stream",
     "text": [
      "Accuracy: 0.8333333333333334\n"
     ]
    }
   ],
   "source": [
    "accuracy = model1.score(X_test, y_test)\n",
    "print('Accuracy:', accuracy)"
   ]
  },
  {
   "cell_type": "code",
   "execution_count": 22,
   "id": "85b4cacb-1bc3-4832-a205-7c2d3ca0a0be",
   "metadata": {},
   "outputs": [
    {
     "name": "stdout",
     "output_type": "stream",
     "text": [
      "   age  height  weight  gender  goal\n",
      "0   34     180      67       1     2\n"
     ]
    }
   ],
   "source": [
    "d1 = pd.DataFrame({'age': [34], 'height': [180], 'weight': [67], 'gender': [1], 'goal': [2]})\n",
    "print(d1)"
   ]
  },
  {
   "cell_type": "code",
   "execution_count": null,
   "metadata": {},
   "outputs": [],
   "source": []
  },
  {
   "cell_type": "code",
   "execution_count": 23,
   "id": "3f0e237c-cf19-4796-8c21-29c05a7a3e58",
   "metadata": {},
   "outputs": [
    {
     "name": "stdout",
     "output_type": "stream",
     "text": [
      "Prediction: [1]\n"
     ]
    }
   ],
   "source": [
    "new_prediction = model1.predict(d1)\n",
    "print('Prediction:', new_prediction)\n"
   ]
  },
  {
   "cell_type": "code",
   "execution_count": 24,
   "id": "802f2034-10eb-40ab-82e6-0c6374c106ea",
   "metadata": {},
   "outputs": [],
   "source": [
    "import pickle\n",
    "with open('strength_model.pkl', 'wb') as file:\n",
    "    pickle.dump(model1, file)"
   ]
  },
  {
   "cell_type": "code",
   "execution_count": null,
   "id": "4e4e73d1-643e-4486-bbf4-d637e4772149",
   "metadata": {},
   "outputs": [],
   "source": []
  },
  {
   "cell_type": "code",
   "execution_count": null,
   "id": "2e988654-d237-4d93-8c09-d0dd78366cd1",
   "metadata": {},
   "outputs": [],
   "source": []
  },
  {
   "cell_type": "code",
   "execution_count": null,
   "id": "97212f4f-d14b-4cc5-ad12-fd4458a3a5bb",
   "metadata": {},
   "outputs": [],
   "source": []
  },
  {
   "cell_type": "code",
   "execution_count": null,
   "id": "3c228ea5-2690-40a6-8ef9-75047f39db3b",
   "metadata": {},
   "outputs": [],
   "source": []
  },
  {
   "cell_type": "code",
   "execution_count": null,
   "id": "7388dc90-61d8-4973-9892-e8bd2146c6e3",
   "metadata": {},
   "outputs": [],
   "source": []
  },
  {
   "cell_type": "code",
   "execution_count": null,
   "id": "4b649638-c005-4bfe-914f-7f28818fc2b4",
   "metadata": {},
   "outputs": [],
   "source": []
  },
  {
   "cell_type": "code",
   "execution_count": null,
   "id": "998e7f2e-7edf-4d2c-931f-1e52aa5daf93",
   "metadata": {},
   "outputs": [],
   "source": []
  },
  {
   "cell_type": "code",
   "execution_count": null,
   "id": "40bdb69c-21ac-4a9d-b233-1d7aad57ece8",
   "metadata": {},
   "outputs": [],
   "source": []
  }
 ],
 "metadata": {
  "kernelspec": {
   "display_name": "Python 3 (ipykernel)",
   "language": "python",
   "name": "python3"
  },
  "language_info": {
   "codemirror_mode": {
    "name": "ipython",
    "version": 3
   },
   "file_extension": ".py",
   "mimetype": "text/x-python",
   "name": "python",
   "nbconvert_exporter": "python",
   "pygments_lexer": "ipython3",
   "version": "3.10.7"
  },
  "widgets": {
   "application/vnd.jupyter.widget-state+json": {
    "state": {},
    "version_major": 2,
    "version_minor": 0
   }
  }
 },
 "nbformat": 4,
 "nbformat_minor": 5
}
