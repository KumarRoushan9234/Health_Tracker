{
 "cells": [
  {
   "cell_type": "code",
   "execution_count": 1,
   "id": "1eaf2bd4-0ccf-4435-ab0d-062177cc3321",
   "metadata": {},
   "outputs": [],
   "source": [
    "import pandas as pd\n",
    "import pickle"
   ]
  },
  {
   "cell_type": "code",
   "execution_count": 2,
   "id": "b14ffed5-eba8-4afe-8802-5ecf5842b0be",
   "metadata": {},
   "outputs": [],
   "source": [
    "with open('time_model.pkl', 'rb') as file:\n",
    "    time_model = pickle.load(file)"
   ]
  },
  {
   "cell_type": "code",
   "execution_count": 3,
   "id": "f330dd96-4cef-49d2-95d9-2db95cabcfcf",
   "metadata": {},
   "outputs": [],
   "source": [
    "with open('aerobic_model.pkl', 'rb') as file:\n",
    "    aerobic_model = pickle.load(file)"
   ]
  },
  {
   "cell_type": "code",
   "execution_count": 4,
   "id": "03598a44-76d1-4739-862b-dfe10c1f27dd",
   "metadata": {},
   "outputs": [],
   "source": [
    "with open('strength_model.pkl', 'rb') as file:\n",
    "    strength_model = pickle.load(file)"
   ]
  },
  {
   "cell_type": "code",
   "execution_count": 5,
   "id": "2fdb7ded-d82e-455a-ad22-f0144271ee73",
   "metadata": {},
   "outputs": [
    {
     "name": "stdin",
     "output_type": "stream",
     "text": [
      "age: 56\n",
      "height: 145\n",
      "weight: 65\n",
      "Male/Female female\n",
      "build_muscle/stay_fit/lose_weight' lose_weight\n"
     ]
    }
   ],
   "source": [
    "age=int(input(\"age:\"))\n",
    "height=int(input(\"height:\"))\n",
    "weight=int(input(\"weight:\"))\n",
    "gender=input(\"Male/Female\")\n",
    "if gender.lower()==\"male\":\n",
    "    gender=1\n",
    "elif gender.lower()==\"female\":\n",
    "    gender=0\n",
    "goal=input(\"build_muscle/stay_fit/lose_weight'\")\n",
    "if goal.lower()=='build_muscle':\n",
    "    goal=0\n",
    "elif goal.lower()=='stay_fit':\n",
    "    goal=2\n",
    "elif goal.lower()=='lose_weight':\n",
    "    goal=1\n",
    "\n",
    "time_dt = pd.DataFrame({'age': [age], 'height': [height], 'weight': [weight]})\n",
    "fit_dt = pd.DataFrame({'age': [age], 'height': [height], 'weight': [weight], 'gender': [gender], 'goal': [goal]})\n"
   ]
  },
  {
   "cell_type": "code",
   "execution_count": 6,
   "id": "bb3f1a2c-7618-4cba-a468-6bc5e7c0be15",
   "metadata": {},
   "outputs": [],
   "source": [
    "time_pred = time_model.predict(time_dt)\n",
    "aerobic_pred = aerobic_model.predict(fit_dt)\n",
    "strength_pred = strength_model.predict(fit_dt)"
   ]
  },
  {
   "cell_type": "code",
   "execution_count": 7,
   "id": "4d7c1133-a395-4a92-9524-f01f60c2da78",
   "metadata": {
    "scrolled": true
   },
   "outputs": [
    {
     "name": "stdout",
     "output_type": "stream",
     "text": [
      "Aerobic Activity Recomended :  Swimming\n"
     ]
    }
   ],
   "source": [
    "if aerobic_pred == 0:\n",
    "    aerobic=\"Cycling\"\n",
    "elif aerobic_pred == 1:\n",
    "    aerobic=\"Dancing\"\n",
    "elif aerobic_pred == 2:\n",
    "    aerobic=\"Jogging\"\n",
    "elif aerobic_pred == 3:\n",
    "    aerobic=\"Running\"\n",
    "elif aerobic_pred == 4:\n",
    "    aerobic=\"Swimming\"\n",
    "elif aerobic_pred == 5:\n",
    "    aerobic=\"Weight Lifting\""
   ]
  },
  {
   "cell_type": "code",
   "execution_count": 8,
   "id": "6de091c2-743c-4e3e-b672-12ea8210df25",
   "metadata": {},
   "outputs": [
    {
     "name": "stdout",
     "output_type": "stream",
     "text": [
      "Strength Training Recomended :  Resistance Band\n"
     ]
    }
   ],
   "source": [
    "if strength_pred == 0:\n",
    "    strength=\"Bodyweight\"\n",
    "elif strength_pred == 1:\n",
    "    strength=\"Resistance Band\"\n",
    "elif strength_pred == 2:\n",
    "    strength=\"Weight Lifting\"\n",
    "elif strength_pred == 3:\n",
    "    strength=\"Weight Machine\""
   ]
  },
  {
   "cell_type": "code",
   "execution_count": 12,
   "id": "9a03a609-17f3-4b4e-992c-67b6cb5ffd00",
   "metadata": {},
   "outputs": [],
   "source": [
    "if 17<age<=30:\n",
    "    intensity=\"Intense\"\n",
    "elif 30<age<=45:\n",
    "    intensity=\"Moderate\"\n",
    "elif age>45:\n",
    "    intensity=\"Low\""
   ]
  },
  {
   "cell_type": "code",
   "execution_count": 13,
   "id": "33db13aa-d814-40ba-bef4-96fcf757c30b",
   "metadata": {},
   "outputs": [
    {
     "name": "stdout",
     "output_type": "stream",
     "text": [
      "Strength Training Recomended:  Resistance Band\n",
      "Aerobic Activity Recomended:  Swimming\n",
      "Duration of Activity:  35\n",
      "Recmemded Intensity:  Low\n"
     ]
    }
   ],
   "source": [
    "print(\"Strength Training Recomended: \",strength)  \n",
    "print(\"Aerobic Activity Recomended: \",aerobic)\n",
    "print(\"Duration of Activity: \",time_pred[0])\n",
    "print(\"Recmemded Intensity: \",intensity)"
   ]
  },
  {
   "cell_type": "code",
   "execution_count": null,
   "id": "532389f7-525e-4a3c-8413-6d68725f5987",
   "metadata": {},
   "outputs": [],
   "source": []
  }
 ],
 "metadata": {
  "kernelspec": {
   "display_name": "Python 3 (ipykernel)",
   "language": "python",
   "name": "python3"
  },
  "language_info": {
   "codemirror_mode": {
    "name": "ipython",
    "version": 3
   },
   "file_extension": ".py",
   "mimetype": "text/x-python",
   "name": "python",
   "nbconvert_exporter": "python",
   "pygments_lexer": "ipython3",
   "version": "3.10.7"
  },
  "widgets": {
   "application/vnd.jupyter.widget-state+json": {
    "state": {},
    "version_major": 2,
    "version_minor": 0
   }
  }
 },
 "nbformat": 4,
 "nbformat_minor": 5
}
