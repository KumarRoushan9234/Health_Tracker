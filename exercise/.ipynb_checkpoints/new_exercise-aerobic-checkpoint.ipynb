{
 "cells": [
  {
   "cell_type": "code",
   "execution_count": 49,
   "id": "75b7508f-7d58-48e5-bb16-d53b4ca99fbc",
   "metadata": {},
   "outputs": [],
   "source": [
    "import pandas as pd\n",
    "from sklearn.preprocessing import StandardScaler"
   ]
  },
  {
   "cell_type": "code",
   "execution_count": 50,
   "id": "468c9166-d028-416e-b7fd-926b2cc774b6",
   "metadata": {},
   "outputs": [],
   "source": [
    "df = pd.read_csv(\"exercise_1.csv\")"
   ]
  },
  {
   "cell_type": "code",
   "execution_count": 51,
   "id": "63bd9e81-61e0-4f08-bb32-894a70e3e4bf",
   "metadata": {
    "scrolled": true
   },
   "outputs": [
    {
     "data": {
      "text/html": [
       "<div>\n",
       "<style scoped>\n",
       "    .dataframe tbody tr th:only-of-type {\n",
       "        vertical-align: middle;\n",
       "    }\n",
       "\n",
       "    .dataframe tbody tr th {\n",
       "        vertical-align: top;\n",
       "    }\n",
       "\n",
       "    .dataframe thead th {\n",
       "        text-align: right;\n",
       "    }\n",
       "</style>\n",
       "<table border=\"1\" class=\"dataframe\">\n",
       "  <thead>\n",
       "    <tr style=\"text-align: right;\">\n",
       "      <th></th>\n",
       "      <th>age</th>\n",
       "      <th>height</th>\n",
       "      <th>weight</th>\n",
       "      <th>gender</th>\n",
       "      <th>goal</th>\n",
       "      <th>time</th>\n",
       "      <th>equipment</th>\n",
       "      <th>aerobic</th>\n",
       "      <th>strength_training</th>\n",
       "      <th>intensity</th>\n",
       "    </tr>\n",
       "  </thead>\n",
       "  <tbody>\n",
       "    <tr>\n",
       "      <th>0</th>\n",
       "      <td>26</td>\n",
       "      <td>175</td>\n",
       "      <td>68</td>\n",
       "      <td>Male</td>\n",
       "      <td>build_muscle</td>\n",
       "      <td>45</td>\n",
       "      <td>dumbbells</td>\n",
       "      <td>Jogging</td>\n",
       "      <td>Weight Lifting</td>\n",
       "      <td>Moderate</td>\n",
       "    </tr>\n",
       "    <tr>\n",
       "      <th>1</th>\n",
       "      <td>48</td>\n",
       "      <td>180</td>\n",
       "      <td>80</td>\n",
       "      <td>Female</td>\n",
       "      <td>stay_fit</td>\n",
       "      <td>80</td>\n",
       "      <td>treadmill</td>\n",
       "      <td>Cycling</td>\n",
       "      <td>Weight Lifting</td>\n",
       "      <td>Intense</td>\n",
       "    </tr>\n",
       "    <tr>\n",
       "      <th>2</th>\n",
       "      <td>34</td>\n",
       "      <td>162</td>\n",
       "      <td>58</td>\n",
       "      <td>Male</td>\n",
       "      <td>lose_weight</td>\n",
       "      <td>45</td>\n",
       "      <td>jump_rope</td>\n",
       "      <td>Cycling</td>\n",
       "      <td>Bodyweight</td>\n",
       "      <td>Moderate</td>\n",
       "    </tr>\n",
       "    <tr>\n",
       "      <th>3</th>\n",
       "      <td>53</td>\n",
       "      <td>168</td>\n",
       "      <td>75</td>\n",
       "      <td>Female</td>\n",
       "      <td>build_muscle</td>\n",
       "      <td>60</td>\n",
       "      <td>barbell</td>\n",
       "      <td>Weight Lifting</td>\n",
       "      <td>Bodyweight</td>\n",
       "      <td>Intense</td>\n",
       "    </tr>\n",
       "    <tr>\n",
       "      <th>4</th>\n",
       "      <td>29</td>\n",
       "      <td>170</td>\n",
       "      <td>72</td>\n",
       "      <td>Male</td>\n",
       "      <td>stay_fit</td>\n",
       "      <td>40</td>\n",
       "      <td>bodyweight_exercises</td>\n",
       "      <td>Dancing</td>\n",
       "      <td>Bodyweight</td>\n",
       "      <td>Moderate</td>\n",
       "    </tr>\n",
       "  </tbody>\n",
       "</table>\n",
       "</div>"
      ],
      "text/plain": [
       "   age  height  weight  gender          goal  time             equipment  \\\n",
       "0   26     175      68    Male  build_muscle    45             dumbbells   \n",
       "1   48     180      80  Female      stay_fit    80             treadmill   \n",
       "2   34     162      58    Male   lose_weight    45             jump_rope   \n",
       "3   53     168      75  Female  build_muscle    60               barbell   \n",
       "4   29     170      72    Male      stay_fit    40  bodyweight_exercises   \n",
       "\n",
       "          aerobic strength_training intensity  \n",
       "0         Jogging    Weight Lifting  Moderate  \n",
       "1         Cycling    Weight Lifting   Intense  \n",
       "2         Cycling        Bodyweight  Moderate  \n",
       "3  Weight Lifting        Bodyweight   Intense  \n",
       "4         Dancing        Bodyweight  Moderate  "
      ]
     },
     "execution_count": 51,
     "metadata": {},
     "output_type": "execute_result"
    }
   ],
   "source": [
    "df.drop(\"id\",axis=1,inplace=True)\n",
    "df.head()"
   ]
  },
  {
   "cell_type": "code",
   "execution_count": 52,
   "id": "20338922-6000-4dac-a1f6-5ed2648e0b4d",
   "metadata": {},
   "outputs": [],
   "source": [
    "df.dropna(inplace=True)\n",
    "df['gender'] = df['gender'].astype(str)\n",
    "df['goal'] = df['goal'].astype(str)"
   ]
  },
  {
   "cell_type": "code",
   "execution_count": 53,
   "id": "ae3ba18f-ed79-4364-b005-03f9d0278528",
   "metadata": {},
   "outputs": [],
   "source": [
    "df['gender'] = df['gender'].str.strip()\n",
    "df['goal'] = df['goal'].str.strip()"
   ]
  },
  {
   "cell_type": "code",
   "execution_count": 54,
   "id": "d01448f7-6cdd-48b1-9120-99398b6f0eee",
   "metadata": {},
   "outputs": [],
   "source": [
    "df = pd.get_dummies(df, columns=['gender', 'goal'], drop_first=True)"
   ]
  },
  {
   "cell_type": "code",
   "execution_count": 55,
   "id": "8200a5ae-11dc-4b77-a4b6-da611ec2c94c",
   "metadata": {},
   "outputs": [
    {
     "data": {
      "text/html": [
       "<div>\n",
       "<style scoped>\n",
       "    .dataframe tbody tr th:only-of-type {\n",
       "        vertical-align: middle;\n",
       "    }\n",
       "\n",
       "    .dataframe tbody tr th {\n",
       "        vertical-align: top;\n",
       "    }\n",
       "\n",
       "    .dataframe thead th {\n",
       "        text-align: right;\n",
       "    }\n",
       "</style>\n",
       "<table border=\"1\" class=\"dataframe\">\n",
       "  <thead>\n",
       "    <tr style=\"text-align: right;\">\n",
       "      <th></th>\n",
       "      <th>age</th>\n",
       "      <th>height</th>\n",
       "      <th>weight</th>\n",
       "      <th>time</th>\n",
       "      <th>equipment</th>\n",
       "      <th>aerobic</th>\n",
       "      <th>strength_training</th>\n",
       "      <th>intensity</th>\n",
       "      <th>gender_Male</th>\n",
       "      <th>goal_lose_weight</th>\n",
       "      <th>goal_stay_fit</th>\n",
       "    </tr>\n",
       "  </thead>\n",
       "  <tbody>\n",
       "    <tr>\n",
       "      <th>0</th>\n",
       "      <td>26</td>\n",
       "      <td>175</td>\n",
       "      <td>68</td>\n",
       "      <td>45</td>\n",
       "      <td>dumbbells</td>\n",
       "      <td>Jogging</td>\n",
       "      <td>Weight Lifting</td>\n",
       "      <td>Moderate</td>\n",
       "      <td>True</td>\n",
       "      <td>False</td>\n",
       "      <td>False</td>\n",
       "    </tr>\n",
       "    <tr>\n",
       "      <th>1</th>\n",
       "      <td>48</td>\n",
       "      <td>180</td>\n",
       "      <td>80</td>\n",
       "      <td>80</td>\n",
       "      <td>treadmill</td>\n",
       "      <td>Cycling</td>\n",
       "      <td>Weight Lifting</td>\n",
       "      <td>Intense</td>\n",
       "      <td>False</td>\n",
       "      <td>False</td>\n",
       "      <td>True</td>\n",
       "    </tr>\n",
       "    <tr>\n",
       "      <th>2</th>\n",
       "      <td>34</td>\n",
       "      <td>162</td>\n",
       "      <td>58</td>\n",
       "      <td>45</td>\n",
       "      <td>jump_rope</td>\n",
       "      <td>Cycling</td>\n",
       "      <td>Bodyweight</td>\n",
       "      <td>Moderate</td>\n",
       "      <td>True</td>\n",
       "      <td>True</td>\n",
       "      <td>False</td>\n",
       "    </tr>\n",
       "    <tr>\n",
       "      <th>3</th>\n",
       "      <td>53</td>\n",
       "      <td>168</td>\n",
       "      <td>75</td>\n",
       "      <td>60</td>\n",
       "      <td>barbell</td>\n",
       "      <td>Weight Lifting</td>\n",
       "      <td>Bodyweight</td>\n",
       "      <td>Intense</td>\n",
       "      <td>False</td>\n",
       "      <td>False</td>\n",
       "      <td>False</td>\n",
       "    </tr>\n",
       "    <tr>\n",
       "      <th>4</th>\n",
       "      <td>29</td>\n",
       "      <td>170</td>\n",
       "      <td>72</td>\n",
       "      <td>40</td>\n",
       "      <td>bodyweight_exercises</td>\n",
       "      <td>Dancing</td>\n",
       "      <td>Bodyweight</td>\n",
       "      <td>Moderate</td>\n",
       "      <td>True</td>\n",
       "      <td>False</td>\n",
       "      <td>True</td>\n",
       "    </tr>\n",
       "  </tbody>\n",
       "</table>\n",
       "</div>"
      ],
      "text/plain": [
       "   age  height  weight  time             equipment         aerobic  \\\n",
       "0   26     175      68    45             dumbbells         Jogging   \n",
       "1   48     180      80    80             treadmill         Cycling   \n",
       "2   34     162      58    45             jump_rope         Cycling   \n",
       "3   53     168      75    60               barbell  Weight Lifting   \n",
       "4   29     170      72    40  bodyweight_exercises         Dancing   \n",
       "\n",
       "  strength_training intensity  gender_Male  goal_lose_weight  goal_stay_fit  \n",
       "0    Weight Lifting  Moderate         True             False          False  \n",
       "1    Weight Lifting   Intense        False             False           True  \n",
       "2        Bodyweight  Moderate         True              True          False  \n",
       "3        Bodyweight   Intense        False             False          False  \n",
       "4        Bodyweight  Moderate         True             False           True  "
      ]
     },
     "execution_count": 55,
     "metadata": {},
     "output_type": "execute_result"
    }
   ],
   "source": [
    "df.head()"
   ]
  },
  {
   "cell_type": "code",
   "execution_count": 33,
   "id": "0b655f79-7946-460c-b9d9-06f3c4387eda",
   "metadata": {},
   "outputs": [],
   "source": [
    "scaler = StandardScaler()\n",
    "df[['age', 'height', 'weight']] = scaler.fit_transform(df[['age', 'height', 'weight']])"
   ]
  },
  {
   "cell_type": "code",
   "execution_count": 34,
   "id": "88605269-3593-404f-aad3-57761f4a891c",
   "metadata": {},
   "outputs": [
    {
     "data": {
      "text/html": [
       "<div>\n",
       "<style scoped>\n",
       "    .dataframe tbody tr th:only-of-type {\n",
       "        vertical-align: middle;\n",
       "    }\n",
       "\n",
       "    .dataframe tbody tr th {\n",
       "        vertical-align: top;\n",
       "    }\n",
       "\n",
       "    .dataframe thead th {\n",
       "        text-align: right;\n",
       "    }\n",
       "</style>\n",
       "<table border=\"1\" class=\"dataframe\">\n",
       "  <thead>\n",
       "    <tr style=\"text-align: right;\">\n",
       "      <th></th>\n",
       "      <th>age</th>\n",
       "      <th>height</th>\n",
       "      <th>weight</th>\n",
       "      <th>time</th>\n",
       "      <th>equipment</th>\n",
       "      <th>aerobic</th>\n",
       "      <th>strength_training</th>\n",
       "      <th>intensity</th>\n",
       "      <th>gender_Male</th>\n",
       "      <th>goal_lose_weight</th>\n",
       "      <th>goal_stay_fit</th>\n",
       "    </tr>\n",
       "  </thead>\n",
       "  <tbody>\n",
       "    <tr>\n",
       "      <th>0</th>\n",
       "      <td>-1.154548</td>\n",
       "      <td>0.790017</td>\n",
       "      <td>-0.144755</td>\n",
       "      <td>45</td>\n",
       "      <td>dumbbells</td>\n",
       "      <td>Jogging</td>\n",
       "      <td>Weight Lifting</td>\n",
       "      <td>Moderate</td>\n",
       "      <td>True</td>\n",
       "      <td>False</td>\n",
       "      <td>False</td>\n",
       "    </tr>\n",
       "    <tr>\n",
       "      <th>1</th>\n",
       "      <td>0.981240</td>\n",
       "      <td>1.494458</td>\n",
       "      <td>1.134934</td>\n",
       "      <td>80</td>\n",
       "      <td>treadmill</td>\n",
       "      <td>Cycling</td>\n",
       "      <td>Weight Lifting</td>\n",
       "      <td>Intense</td>\n",
       "      <td>False</td>\n",
       "      <td>False</td>\n",
       "      <td>True</td>\n",
       "    </tr>\n",
       "    <tr>\n",
       "      <th>2</th>\n",
       "      <td>-0.377898</td>\n",
       "      <td>-1.041528</td>\n",
       "      <td>-1.211162</td>\n",
       "      <td>45</td>\n",
       "      <td>jump_rope</td>\n",
       "      <td>Cycling</td>\n",
       "      <td>Bodyweight</td>\n",
       "      <td>Moderate</td>\n",
       "      <td>True</td>\n",
       "      <td>True</td>\n",
       "      <td>False</td>\n",
       "    </tr>\n",
       "    <tr>\n",
       "      <th>3</th>\n",
       "      <td>1.466647</td>\n",
       "      <td>-0.196200</td>\n",
       "      <td>0.601730</td>\n",
       "      <td>60</td>\n",
       "      <td>barbell</td>\n",
       "      <td>Weight Lifting</td>\n",
       "      <td>Bodyweight</td>\n",
       "      <td>Intense</td>\n",
       "      <td>False</td>\n",
       "      <td>False</td>\n",
       "      <td>False</td>\n",
       "    </tr>\n",
       "    <tr>\n",
       "      <th>4</th>\n",
       "      <td>-0.863304</td>\n",
       "      <td>0.085576</td>\n",
       "      <td>0.281808</td>\n",
       "      <td>40</td>\n",
       "      <td>bodyweight_exercises</td>\n",
       "      <td>Dancing</td>\n",
       "      <td>Bodyweight</td>\n",
       "      <td>Moderate</td>\n",
       "      <td>True</td>\n",
       "      <td>False</td>\n",
       "      <td>True</td>\n",
       "    </tr>\n",
       "  </tbody>\n",
       "</table>\n",
       "</div>"
      ],
      "text/plain": [
       "        age    height    weight  time             equipment         aerobic  \\\n",
       "0 -1.154548  0.790017 -0.144755    45             dumbbells         Jogging   \n",
       "1  0.981240  1.494458  1.134934    80             treadmill         Cycling   \n",
       "2 -0.377898 -1.041528 -1.211162    45             jump_rope         Cycling   \n",
       "3  1.466647 -0.196200  0.601730    60               barbell  Weight Lifting   \n",
       "4 -0.863304  0.085576  0.281808    40  bodyweight_exercises         Dancing   \n",
       "\n",
       "  strength_training intensity  gender_Male  goal_lose_weight  goal_stay_fit  \n",
       "0    Weight Lifting  Moderate         True             False          False  \n",
       "1    Weight Lifting   Intense        False             False           True  \n",
       "2        Bodyweight  Moderate         True              True          False  \n",
       "3        Bodyweight   Intense        False             False          False  \n",
       "4        Bodyweight  Moderate         True             False           True  "
      ]
     },
     "execution_count": 34,
     "metadata": {},
     "output_type": "execute_result"
    }
   ],
   "source": [
    "df.head()"
   ]
  },
  {
   "cell_type": "code",
   "execution_count": 35,
   "id": "b10e36df-40f5-4274-8fc0-dd6475c5a64a",
   "metadata": {},
   "outputs": [],
   "source": [
    "features = df.drop(['aerobic', 'strength_training', 'intensity','time','equipment',], axis=1)\n",
    "target_aerobic = df['aerobic']\n",
    "target_intensity = df['intensity']"
   ]
  },
  {
   "cell_type": "code",
   "execution_count": 37,
   "id": "dcc2c298-a2f4-45a3-ace0-d27032e8ba18",
   "metadata": {},
   "outputs": [
    {
     "name": "stdout",
     "output_type": "stream",
     "text": [
      "        age    height    weight  gender_Male  goal_lose_weight  goal_stay_fit\n",
      "0 -1.154548  0.790017 -0.144755         True             False          False\n",
      "1  0.981240  1.494458  1.134934        False             False           True\n",
      "2 -0.377898 -1.041528 -1.211162         True              True          False\n",
      "3  1.466647 -0.196200  0.601730        False             False          False\n",
      "4 -0.863304  0.085576  0.281808         True             False           True\n"
     ]
    }
   ],
   "source": [
    "print(features.head())"
   ]
  },
  {
   "cell_type": "code",
   "execution_count": 38,
   "id": "91b7b31e-a5f8-410f-b62e-8bf915a3eb9a",
   "metadata": {},
   "outputs": [
    {
     "name": "stdout",
     "output_type": "stream",
     "text": [
      "0           Jogging\n",
      "1           Cycling\n",
      "2           Cycling\n",
      "3    Weight Lifting\n",
      "4           Dancing\n",
      "Name: aerobic, dtype: object\n"
     ]
    }
   ],
   "source": [
    "print(target_aerobic.head())"
   ]
  },
  {
   "cell_type": "code",
   "execution_count": 40,
   "id": "24aabcd2-80d3-434f-8cc7-c6bb75099538",
   "metadata": {},
   "outputs": [],
   "source": [
    "from sklearn.model_selection import train_test_split\n",
    "X_train, X_test, y_train_aerobic, y_test_aerobic = train_test_split(\n",
    "    features, target_aerobic, test_size=0.2, random_state=42)"
   ]
  },
  {
   "cell_type": "code",
   "execution_count": 41,
   "id": "8a73413c-67f9-434e-af03-54acf886fd6e",
   "metadata": {},
   "outputs": [
    {
     "data": {
      "text/html": [
       "<style>#sk-container-id-1 {color: black;}#sk-container-id-1 pre{padding: 0;}#sk-container-id-1 div.sk-toggleable {background-color: white;}#sk-container-id-1 label.sk-toggleable__label {cursor: pointer;display: block;width: 100%;margin-bottom: 0;padding: 0.3em;box-sizing: border-box;text-align: center;}#sk-container-id-1 label.sk-toggleable__label-arrow:before {content: \"▸\";float: left;margin-right: 0.25em;color: #696969;}#sk-container-id-1 label.sk-toggleable__label-arrow:hover:before {color: black;}#sk-container-id-1 div.sk-estimator:hover label.sk-toggleable__label-arrow:before {color: black;}#sk-container-id-1 div.sk-toggleable__content {max-height: 0;max-width: 0;overflow: hidden;text-align: left;background-color: #f0f8ff;}#sk-container-id-1 div.sk-toggleable__content pre {margin: 0.2em;color: black;border-radius: 0.25em;background-color: #f0f8ff;}#sk-container-id-1 input.sk-toggleable__control:checked~div.sk-toggleable__content {max-height: 200px;max-width: 100%;overflow: auto;}#sk-container-id-1 input.sk-toggleable__control:checked~label.sk-toggleable__label-arrow:before {content: \"▾\";}#sk-container-id-1 div.sk-estimator input.sk-toggleable__control:checked~label.sk-toggleable__label {background-color: #d4ebff;}#sk-container-id-1 div.sk-label input.sk-toggleable__control:checked~label.sk-toggleable__label {background-color: #d4ebff;}#sk-container-id-1 input.sk-hidden--visually {border: 0;clip: rect(1px 1px 1px 1px);clip: rect(1px, 1px, 1px, 1px);height: 1px;margin: -1px;overflow: hidden;padding: 0;position: absolute;width: 1px;}#sk-container-id-1 div.sk-estimator {font-family: monospace;background-color: #f0f8ff;border: 1px dotted black;border-radius: 0.25em;box-sizing: border-box;margin-bottom: 0.5em;}#sk-container-id-1 div.sk-estimator:hover {background-color: #d4ebff;}#sk-container-id-1 div.sk-parallel-item::after {content: \"\";width: 100%;border-bottom: 1px solid gray;flex-grow: 1;}#sk-container-id-1 div.sk-label:hover label.sk-toggleable__label {background-color: #d4ebff;}#sk-container-id-1 div.sk-serial::before {content: \"\";position: absolute;border-left: 1px solid gray;box-sizing: border-box;top: 0;bottom: 0;left: 50%;z-index: 0;}#sk-container-id-1 div.sk-serial {display: flex;flex-direction: column;align-items: center;background-color: white;padding-right: 0.2em;padding-left: 0.2em;position: relative;}#sk-container-id-1 div.sk-item {position: relative;z-index: 1;}#sk-container-id-1 div.sk-parallel {display: flex;align-items: stretch;justify-content: center;background-color: white;position: relative;}#sk-container-id-1 div.sk-item::before, #sk-container-id-1 div.sk-parallel-item::before {content: \"\";position: absolute;border-left: 1px solid gray;box-sizing: border-box;top: 0;bottom: 0;left: 50%;z-index: -1;}#sk-container-id-1 div.sk-parallel-item {display: flex;flex-direction: column;z-index: 1;position: relative;background-color: white;}#sk-container-id-1 div.sk-parallel-item:first-child::after {align-self: flex-end;width: 50%;}#sk-container-id-1 div.sk-parallel-item:last-child::after {align-self: flex-start;width: 50%;}#sk-container-id-1 div.sk-parallel-item:only-child::after {width: 0;}#sk-container-id-1 div.sk-dashed-wrapped {border: 1px dashed gray;margin: 0 0.4em 0.5em 0.4em;box-sizing: border-box;padding-bottom: 0.4em;background-color: white;}#sk-container-id-1 div.sk-label label {font-family: monospace;font-weight: bold;display: inline-block;line-height: 1.2em;}#sk-container-id-1 div.sk-label-container {text-align: center;}#sk-container-id-1 div.sk-container {/* jupyter's `normalize.less` sets `[hidden] { display: none; }` but bootstrap.min.css set `[hidden] { display: none !important; }` so we also need the `!important` here to be able to override the default hidden behavior on the sphinx rendered scikit-learn.org. See: https://github.com/scikit-learn/scikit-learn/issues/21755 */display: inline-block !important;position: relative;}#sk-container-id-1 div.sk-text-repr-fallback {display: none;}</style><div id=\"sk-container-id-1\" class=\"sk-top-container\"><div class=\"sk-text-repr-fallback\"><pre>DecisionTreeClassifier()</pre><b>In a Jupyter environment, please rerun this cell to show the HTML representation or trust the notebook. <br />On GitHub, the HTML representation is unable to render, please try loading this page with nbviewer.org.</b></div><div class=\"sk-container\" hidden><div class=\"sk-item\"><div class=\"sk-estimator sk-toggleable\"><input class=\"sk-toggleable__control sk-hidden--visually\" id=\"sk-estimator-id-1\" type=\"checkbox\" checked><label for=\"sk-estimator-id-1\" class=\"sk-toggleable__label sk-toggleable__label-arrow\">DecisionTreeClassifier</label><div class=\"sk-toggleable__content\"><pre>DecisionTreeClassifier()</pre></div></div></div></div></div>"
      ],
      "text/plain": [
       "DecisionTreeClassifier()"
      ]
     },
     "execution_count": 41,
     "metadata": {},
     "output_type": "execute_result"
    }
   ],
   "source": [
    "from sklearn.tree import DecisionTreeClassifier\n",
    "model_aerobic = DecisionTreeClassifier()\n",
    "model_aerobic.fit(X_train, y_train_aerobic)\n"
   ]
  },
  {
   "cell_type": "code",
   "execution_count": 42,
   "id": "8e3cd44b-bf52-4a64-ab7f-6c961ce10d95",
   "metadata": {},
   "outputs": [],
   "source": [
    "from sklearn.metrics import accuracy_score\n",
    "\n",
    "pred_aerobic = model_aerobic.predict(X_test)\n",
    "accuracy_aerobic = accuracy_score(y_test_aerobic,pred_aerobic)"
   ]
  },
  {
   "cell_type": "code",
   "execution_count": 46,
   "id": "9841abea-9ad6-4d4f-8c76-587d82fd650c",
   "metadata": {},
   "outputs": [
    {
     "name": "stdout",
     "output_type": "stream",
     "text": [
      "[[0. 0. 0.]]\n"
     ]
    }
   ],
   "source": [
    "x_t = scaler.fit_transform([[24,170,65]])\n",
    "print(x_t)"
   ]
  },
  {
   "cell_type": "code",
   "execution_count": 48,
   "id": "076a47aa-f9b8-4a2a-896b-3e283897f8db",
   "metadata": {},
   "outputs": [
    {
     "name": "stdin",
     "output_type": "stream",
     "text": [
      "Enter your age:  26\n",
      "Enter your height (in cm):  165\n",
      "Enter your weight (in kg):  67\n",
      "Enter your gender (Male/Female):  Male\n",
      "Enter your fitness goal (e.g., build_muscle, stay_fit, lose_weight):  stay_fit\n"
     ]
    },
    {
     "ename": "ValueError",
     "evalue": "The feature names should match those that were passed during fit.\nFeature names unseen at fit time:\n- aerobic\n- equipment\n- intensity\n- strength_training\n- time\n",
     "output_type": "error",
     "traceback": [
      "\u001b[1;31m---------------------------------------------------------------------------\u001b[0m",
      "\u001b[1;31mValueError\u001b[0m                                Traceback (most recent call last)",
      "Cell \u001b[1;32mIn[48], line 48\u001b[0m\n\u001b[0;32m     45\u001b[0m     user_data[column] \u001b[38;5;241m=\u001b[39m \u001b[38;5;241m0\u001b[39m\n\u001b[0;32m     47\u001b[0m \u001b[38;5;66;03m# Step 4: Make predictions\u001b[39;00m\n\u001b[1;32m---> 48\u001b[0m prediction_aerobic \u001b[38;5;241m=\u001b[39m \u001b[43mmodel_aerobic\u001b[49m\u001b[38;5;241;43m.\u001b[39;49m\u001b[43mpredict\u001b[49m\u001b[43m(\u001b[49m\u001b[43muser_data\u001b[49m\u001b[43m)\u001b[49m\n\u001b[0;32m     50\u001b[0m \u001b[38;5;66;03m# Step 5: Display the prediction\u001b[39;00m\n\u001b[0;32m     51\u001b[0m \u001b[38;5;28mprint\u001b[39m(\u001b[38;5;124m\"\u001b[39m\u001b[38;5;130;01m\\n\u001b[39;00m\u001b[38;5;124mPrediction:\u001b[39m\u001b[38;5;124m\"\u001b[39m)\n",
      "File \u001b[1;32m~\\AppData\\Local\\Programs\\Python\\Python310\\lib\\site-packages\\sklearn\\tree\\_classes.py:500\u001b[0m, in \u001b[0;36mBaseDecisionTree.predict\u001b[1;34m(self, X, check_input)\u001b[0m\n\u001b[0;32m    477\u001b[0m \u001b[38;5;250m\u001b[39m\u001b[38;5;124;03m\"\"\"Predict class or regression value for X.\u001b[39;00m\n\u001b[0;32m    478\u001b[0m \n\u001b[0;32m    479\u001b[0m \u001b[38;5;124;03mFor a classification model, the predicted class for each sample in X is\u001b[39;00m\n\u001b[1;32m   (...)\u001b[0m\n\u001b[0;32m    497\u001b[0m \u001b[38;5;124;03m    The predicted classes, or the predict values.\u001b[39;00m\n\u001b[0;32m    498\u001b[0m \u001b[38;5;124;03m\"\"\"\u001b[39;00m\n\u001b[0;32m    499\u001b[0m check_is_fitted(\u001b[38;5;28mself\u001b[39m)\n\u001b[1;32m--> 500\u001b[0m X \u001b[38;5;241m=\u001b[39m \u001b[38;5;28;43mself\u001b[39;49m\u001b[38;5;241;43m.\u001b[39;49m\u001b[43m_validate_X_predict\u001b[49m\u001b[43m(\u001b[49m\u001b[43mX\u001b[49m\u001b[43m,\u001b[49m\u001b[43m \u001b[49m\u001b[43mcheck_input\u001b[49m\u001b[43m)\u001b[49m\n\u001b[0;32m    501\u001b[0m proba \u001b[38;5;241m=\u001b[39m \u001b[38;5;28mself\u001b[39m\u001b[38;5;241m.\u001b[39mtree_\u001b[38;5;241m.\u001b[39mpredict(X)\n\u001b[0;32m    502\u001b[0m n_samples \u001b[38;5;241m=\u001b[39m X\u001b[38;5;241m.\u001b[39mshape[\u001b[38;5;241m0\u001b[39m]\n",
      "File \u001b[1;32m~\\AppData\\Local\\Programs\\Python\\Python310\\lib\\site-packages\\sklearn\\tree\\_classes.py:460\u001b[0m, in \u001b[0;36mBaseDecisionTree._validate_X_predict\u001b[1;34m(self, X, check_input)\u001b[0m\n\u001b[0;32m    458\u001b[0m \u001b[38;5;28;01melse\u001b[39;00m:\n\u001b[0;32m    459\u001b[0m     force_all_finite \u001b[38;5;241m=\u001b[39m \u001b[38;5;28;01mTrue\u001b[39;00m\n\u001b[1;32m--> 460\u001b[0m X \u001b[38;5;241m=\u001b[39m \u001b[38;5;28;43mself\u001b[39;49m\u001b[38;5;241;43m.\u001b[39;49m\u001b[43m_validate_data\u001b[49m\u001b[43m(\u001b[49m\n\u001b[0;32m    461\u001b[0m \u001b[43m    \u001b[49m\u001b[43mX\u001b[49m\u001b[43m,\u001b[49m\n\u001b[0;32m    462\u001b[0m \u001b[43m    \u001b[49m\u001b[43mdtype\u001b[49m\u001b[38;5;241;43m=\u001b[39;49m\u001b[43mDTYPE\u001b[49m\u001b[43m,\u001b[49m\n\u001b[0;32m    463\u001b[0m \u001b[43m    \u001b[49m\u001b[43maccept_sparse\u001b[49m\u001b[38;5;241;43m=\u001b[39;49m\u001b[38;5;124;43m\"\u001b[39;49m\u001b[38;5;124;43mcsr\u001b[39;49m\u001b[38;5;124;43m\"\u001b[39;49m\u001b[43m,\u001b[49m\n\u001b[0;32m    464\u001b[0m \u001b[43m    \u001b[49m\u001b[43mreset\u001b[49m\u001b[38;5;241;43m=\u001b[39;49m\u001b[38;5;28;43;01mFalse\u001b[39;49;00m\u001b[43m,\u001b[49m\n\u001b[0;32m    465\u001b[0m \u001b[43m    \u001b[49m\u001b[43mforce_all_finite\u001b[49m\u001b[38;5;241;43m=\u001b[39;49m\u001b[43mforce_all_finite\u001b[49m\u001b[43m,\u001b[49m\n\u001b[0;32m    466\u001b[0m \u001b[43m\u001b[49m\u001b[43m)\u001b[49m\n\u001b[0;32m    467\u001b[0m \u001b[38;5;28;01mif\u001b[39;00m issparse(X) \u001b[38;5;129;01mand\u001b[39;00m (\n\u001b[0;32m    468\u001b[0m     X\u001b[38;5;241m.\u001b[39mindices\u001b[38;5;241m.\u001b[39mdtype \u001b[38;5;241m!=\u001b[39m np\u001b[38;5;241m.\u001b[39mintc \u001b[38;5;129;01mor\u001b[39;00m X\u001b[38;5;241m.\u001b[39mindptr\u001b[38;5;241m.\u001b[39mdtype \u001b[38;5;241m!=\u001b[39m np\u001b[38;5;241m.\u001b[39mintc\n\u001b[0;32m    469\u001b[0m ):\n\u001b[0;32m    470\u001b[0m     \u001b[38;5;28;01mraise\u001b[39;00m \u001b[38;5;167;01mValueError\u001b[39;00m(\u001b[38;5;124m\"\u001b[39m\u001b[38;5;124mNo support for np.int64 index based sparse matrices\u001b[39m\u001b[38;5;124m\"\u001b[39m)\n",
      "File \u001b[1;32m~\\AppData\\Local\\Programs\\Python\\Python310\\lib\\site-packages\\sklearn\\base.py:579\u001b[0m, in \u001b[0;36mBaseEstimator._validate_data\u001b[1;34m(self, X, y, reset, validate_separately, cast_to_ndarray, **check_params)\u001b[0m\n\u001b[0;32m    508\u001b[0m \u001b[38;5;28;01mdef\u001b[39;00m \u001b[38;5;21m_validate_data\u001b[39m(\n\u001b[0;32m    509\u001b[0m     \u001b[38;5;28mself\u001b[39m,\n\u001b[0;32m    510\u001b[0m     X\u001b[38;5;241m=\u001b[39m\u001b[38;5;124m\"\u001b[39m\u001b[38;5;124mno_validation\u001b[39m\u001b[38;5;124m\"\u001b[39m,\n\u001b[1;32m   (...)\u001b[0m\n\u001b[0;32m    515\u001b[0m     \u001b[38;5;241m*\u001b[39m\u001b[38;5;241m*\u001b[39mcheck_params,\n\u001b[0;32m    516\u001b[0m ):\n\u001b[0;32m    517\u001b[0m \u001b[38;5;250m    \u001b[39m\u001b[38;5;124;03m\"\"\"Validate input data and set or check the `n_features_in_` attribute.\u001b[39;00m\n\u001b[0;32m    518\u001b[0m \n\u001b[0;32m    519\u001b[0m \u001b[38;5;124;03m    Parameters\u001b[39;00m\n\u001b[1;32m   (...)\u001b[0m\n\u001b[0;32m    577\u001b[0m \u001b[38;5;124;03m        validated.\u001b[39;00m\n\u001b[0;32m    578\u001b[0m \u001b[38;5;124;03m    \"\"\"\u001b[39;00m\n\u001b[1;32m--> 579\u001b[0m     \u001b[38;5;28;43mself\u001b[39;49m\u001b[38;5;241;43m.\u001b[39;49m\u001b[43m_check_feature_names\u001b[49m\u001b[43m(\u001b[49m\u001b[43mX\u001b[49m\u001b[43m,\u001b[49m\u001b[43m \u001b[49m\u001b[43mreset\u001b[49m\u001b[38;5;241;43m=\u001b[39;49m\u001b[43mreset\u001b[49m\u001b[43m)\u001b[49m\n\u001b[0;32m    581\u001b[0m     \u001b[38;5;28;01mif\u001b[39;00m y \u001b[38;5;129;01mis\u001b[39;00m \u001b[38;5;28;01mNone\u001b[39;00m \u001b[38;5;129;01mand\u001b[39;00m \u001b[38;5;28mself\u001b[39m\u001b[38;5;241m.\u001b[39m_get_tags()[\u001b[38;5;124m\"\u001b[39m\u001b[38;5;124mrequires_y\u001b[39m\u001b[38;5;124m\"\u001b[39m]:\n\u001b[0;32m    582\u001b[0m         \u001b[38;5;28;01mraise\u001b[39;00m \u001b[38;5;167;01mValueError\u001b[39;00m(\n\u001b[0;32m    583\u001b[0m             \u001b[38;5;124mf\u001b[39m\u001b[38;5;124m\"\u001b[39m\u001b[38;5;124mThis \u001b[39m\u001b[38;5;132;01m{\u001b[39;00m\u001b[38;5;28mself\u001b[39m\u001b[38;5;241m.\u001b[39m\u001b[38;5;18m__class__\u001b[39m\u001b[38;5;241m.\u001b[39m\u001b[38;5;18m__name__\u001b[39m\u001b[38;5;132;01m}\u001b[39;00m\u001b[38;5;124m estimator \u001b[39m\u001b[38;5;124m\"\u001b[39m\n\u001b[0;32m    584\u001b[0m             \u001b[38;5;124m\"\u001b[39m\u001b[38;5;124mrequires y to be passed, but the target y is None.\u001b[39m\u001b[38;5;124m\"\u001b[39m\n\u001b[0;32m    585\u001b[0m         )\n",
      "File \u001b[1;32m~\\AppData\\Local\\Programs\\Python\\Python310\\lib\\site-packages\\sklearn\\base.py:506\u001b[0m, in \u001b[0;36mBaseEstimator._check_feature_names\u001b[1;34m(self, X, reset)\u001b[0m\n\u001b[0;32m    501\u001b[0m \u001b[38;5;28;01mif\u001b[39;00m \u001b[38;5;129;01mnot\u001b[39;00m missing_names \u001b[38;5;129;01mand\u001b[39;00m \u001b[38;5;129;01mnot\u001b[39;00m unexpected_names:\n\u001b[0;32m    502\u001b[0m     message \u001b[38;5;241m+\u001b[39m\u001b[38;5;241m=\u001b[39m (\n\u001b[0;32m    503\u001b[0m         \u001b[38;5;124m\"\u001b[39m\u001b[38;5;124mFeature names must be in the same order as they were in fit.\u001b[39m\u001b[38;5;130;01m\\n\u001b[39;00m\u001b[38;5;124m\"\u001b[39m\n\u001b[0;32m    504\u001b[0m     )\n\u001b[1;32m--> 506\u001b[0m \u001b[38;5;28;01mraise\u001b[39;00m \u001b[38;5;167;01mValueError\u001b[39;00m(message)\n",
      "\u001b[1;31mValueError\u001b[0m: The feature names should match those that were passed during fit.\nFeature names unseen at fit time:\n- aerobic\n- equipment\n- intensity\n- strength_training\n- time\n"
     ]
    }
   ],
   "source": [
    "import pandas as pd\n",
    "from sklearn.tree import DecisionTreeClassifier\n",
    "from sklearn.preprocessing import StandardScaler\n",
    "import numpy as np\n",
    "\n",
    "# Assume 'df' is your preprocessed DataFrame\n",
    "# 'model_aerobic' is the trained model for predicting aerobic exercise\n",
    "\n",
    "# Step 1: Take user input\n",
    "age = float(input(\"Enter your age: \"))\n",
    "height = float(input(\"Enter your height (in cm): \"))\n",
    "weight = float(input(\"Enter your weight (in kg): \"))\n",
    "gender = input(\"Enter your gender (Male/Female): \").strip().lower()\n",
    "goal = input(\"Enter your fitness goal (e.g., build_muscle, stay_fit, lose_weight): \").strip().lower()\n",
    "\n",
    "# Step 2: Create a DataFrame with user input\n",
    "user_data = pd.DataFrame({\n",
    "    'age': [age],\n",
    "    'height': [height],\n",
    "    'weight': [weight],\n",
    "    'gender': [gender],\n",
    "    'goal': [goal],\n",
    "    'aerobic': [0],  # Add default value for 'aerobic'\n",
    "    'equipment': [0],  # Add default value for 'equipment'\n",
    "    'intensity': [0],  # Add default value for 'intensity'\n",
    "    'strength_training': [0],  # Add default value for 'strength_training'\n",
    "    'time': [0]  # Add default value for 'time'\n",
    "})\n",
    "\n",
    "# Step 3: Preprocess user input data\n",
    "user_data['gender'] = user_data['gender'].astype(str)\n",
    "user_data['goal'] = user_data['goal'].astype(str)\n",
    "\n",
    "# One-hot encode categorical variables\n",
    "user_data = pd.get_dummies(user_data, columns=['gender', 'goal'], drop_first=True)\n",
    "\n",
    "# Normalize numerical features\n",
    "scaler = StandardScaler()\n",
    "user_data[['age', 'height', 'weight']] = scaler.fit_transform(user_data[['age', 'height', 'weight']])\n",
    "\n",
    "# Ensure that the user input DataFrame has the same columns as the training data\n",
    "# This may be necessary if some categories are not present in the user input\n",
    "missing_columns = set(df.columns) - set(user_data.columns)\n",
    "for column in missing_columns:\n",
    "    user_data[column] = 0\n",
    "\n",
    "# Step 4: Make predictions\n",
    "prediction_aerobic = model_aerobic.predict(user_data)\n",
    "\n",
    "# Step 5: Display the prediction\n",
    "print(\"\\nPrediction:\")\n",
    "print(\"Aerobic Exercise:\", \"Yes\" if prediction_aerobic[0] else \"No\")\n"
   ]
  },
  {
   "cell_type": "code",
   "execution_count": null,
   "id": "40bdb69c-21ac-4a9d-b233-1d7aad57ece8",
   "metadata": {},
   "outputs": [],
   "source": []
  }
 ],
 "metadata": {
  "kernelspec": {
   "display_name": "Python 3 (ipykernel)",
   "language": "python",
   "name": "python3"
  },
  "language_info": {
   "codemirror_mode": {
    "name": "ipython",
    "version": 3
   },
   "file_extension": ".py",
   "mimetype": "text/x-python",
   "name": "python",
   "nbconvert_exporter": "python",
   "pygments_lexer": "ipython3",
   "version": "3.10.7"
  },
  "widgets": {
   "application/vnd.jupyter.widget-state+json": {
    "state": {},
    "version_major": 2,
    "version_minor": 0
   }
  }
 },
 "nbformat": 4,
 "nbformat_minor": 5
}
