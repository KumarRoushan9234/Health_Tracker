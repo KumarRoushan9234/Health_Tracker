{
 "cells": [
  {
   "cell_type": "code",
   "execution_count": 132,
   "id": "75b7508f-7d58-48e5-bb16-d53b4ca99fbc",
   "metadata": {},
   "outputs": [],
   "source": [
    "import pandas as pd\n",
    "from sklearn.preprocessing import StandardScaler\n",
    "from sklearn.preprocessing import LabelEncoder"
   ]
  },
  {
   "cell_type": "code",
   "execution_count": 133,
   "id": "468c9166-d028-416e-b7fd-926b2cc774b6",
   "metadata": {},
   "outputs": [],
   "source": [
    "df = pd.read_csv(\"exercise_1.csv\")"
   ]
  },
  {
   "cell_type": "code",
   "execution_count": 134,
   "id": "63bd9e81-61e0-4f08-bb32-894a70e3e4bf",
   "metadata": {},
   "outputs": [],
   "source": [
    "df.drop(\"id\",axis=1,inplace=True)\n",
    "df.drop(\"equipment\",axis=1,inplace=True)\n",
    "df.drop(\"strength_training\",axis=1,inplace=True)\n",
    "df.drop(\"intensity\",axis=1,inplace=True)\n",
    "df.drop(\"time\",axis=1,inplace=True)"
   ]
  },
  {
   "cell_type": "code",
   "execution_count": 135,
   "id": "0f282d18-087c-4661-87db-ad2e8953df02",
   "metadata": {},
   "outputs": [
    {
     "name": "stdout",
     "output_type": "stream",
     "text": [
      "['build_muscle' 'stay_fit' 'lose_weight']\n",
      "['Jogging' 'Cycling' 'Weight Lifting' 'Dancing' 'Running' 'Swimming']\n",
      "['Male' 'Female']\n"
     ]
    }
   ],
   "source": [
    "df.head(10)\n",
    "print(df['goal'].unique())\n",
    "print(df['aerobic'].unique())\n",
    "print(df['gender'].unique())"
   ]
  },
  {
   "cell_type": "code",
   "execution_count": 136,
   "id": "5a1762a3-d02a-4ac2-a896-35082b6d3215",
   "metadata": {},
   "outputs": [],
   "source": [
    "from sklearn.preprocessing import LabelEncoder\n",
    "encoder = LabelEncoder()"
   ]
  },
  {
   "cell_type": "code",
   "execution_count": 137,
   "id": "362bbbba-1f77-457b-ac5c-864902a7fea7",
   "metadata": {},
   "outputs": [],
   "source": [
    "df['gender']=encoder.fit_transform(df['gender'])\n",
    "df['aerobic']=encoder.fit_transform(df['aerobic'])\n",
    "df['goal']=encoder.fit_transform(df['goal'])"
   ]
  },
  {
   "cell_type": "code",
   "execution_count": 138,
   "id": "a9617507-dee2-4a08-bf29-e90c4a754ae7",
   "metadata": {},
   "outputs": [
    {
     "name": "stdout",
     "output_type": "stream",
     "text": [
      "[0 2 1]\n",
      "[2 0 5 1 3 4]\n",
      "[1 0]\n"
     ]
    }
   ],
   "source": [
    "print(df['goal'].unique())\n",
    "print(df['aerobic'].unique())\n",
    "print(df['gender'].unique())"
   ]
  },
  {
   "cell_type": "code",
   "execution_count": 63,
   "id": "dc0575a5-e415-4757-9942-40ebc4fc1bc8",
   "metadata": {},
   "outputs": [],
   "source": []
  },
  {
   "cell_type": "code",
   "execution_count": 139,
   "id": "cf2334f3-c3b6-4b0f-95f9-f35811a9cbeb",
   "metadata": {},
   "outputs": [
    {
     "data": {
      "text/html": [
       "<div>\n",
       "<style scoped>\n",
       "    .dataframe tbody tr th:only-of-type {\n",
       "        vertical-align: middle;\n",
       "    }\n",
       "\n",
       "    .dataframe tbody tr th {\n",
       "        vertical-align: top;\n",
       "    }\n",
       "\n",
       "    .dataframe thead th {\n",
       "        text-align: right;\n",
       "    }\n",
       "</style>\n",
       "<table border=\"1\" class=\"dataframe\">\n",
       "  <thead>\n",
       "    <tr style=\"text-align: right;\">\n",
       "      <th></th>\n",
       "      <th>age</th>\n",
       "      <th>height</th>\n",
       "      <th>weight</th>\n",
       "      <th>gender</th>\n",
       "      <th>goal</th>\n",
       "      <th>aerobic</th>\n",
       "    </tr>\n",
       "  </thead>\n",
       "  <tbody>\n",
       "    <tr>\n",
       "      <th>0</th>\n",
       "      <td>26</td>\n",
       "      <td>175</td>\n",
       "      <td>68</td>\n",
       "      <td>1</td>\n",
       "      <td>0</td>\n",
       "      <td>2</td>\n",
       "    </tr>\n",
       "    <tr>\n",
       "      <th>1</th>\n",
       "      <td>48</td>\n",
       "      <td>180</td>\n",
       "      <td>80</td>\n",
       "      <td>0</td>\n",
       "      <td>2</td>\n",
       "      <td>0</td>\n",
       "    </tr>\n",
       "    <tr>\n",
       "      <th>2</th>\n",
       "      <td>34</td>\n",
       "      <td>162</td>\n",
       "      <td>58</td>\n",
       "      <td>1</td>\n",
       "      <td>1</td>\n",
       "      <td>0</td>\n",
       "    </tr>\n",
       "    <tr>\n",
       "      <th>3</th>\n",
       "      <td>53</td>\n",
       "      <td>168</td>\n",
       "      <td>75</td>\n",
       "      <td>0</td>\n",
       "      <td>0</td>\n",
       "      <td>5</td>\n",
       "    </tr>\n",
       "    <tr>\n",
       "      <th>4</th>\n",
       "      <td>29</td>\n",
       "      <td>170</td>\n",
       "      <td>72</td>\n",
       "      <td>1</td>\n",
       "      <td>2</td>\n",
       "      <td>1</td>\n",
       "    </tr>\n",
       "  </tbody>\n",
       "</table>\n",
       "</div>"
      ],
      "text/plain": [
       "   age  height  weight  gender  goal  aerobic\n",
       "0   26     175      68       1     0        2\n",
       "1   48     180      80       0     2        0\n",
       "2   34     162      58       1     1        0\n",
       "3   53     168      75       0     0        5\n",
       "4   29     170      72       1     2        1"
      ]
     },
     "execution_count": 139,
     "metadata": {},
     "output_type": "execute_result"
    }
   ],
   "source": [
    "df.head()"
   ]
  },
  {
   "cell_type": "code",
   "execution_count": null,
   "id": "83ea2ad7-2f46-48dc-b94a-fa0c17d0b3cc",
   "metadata": {
    "scrolled": true
   },
   "outputs": [],
   "source": []
  },
  {
   "cell_type": "code",
   "execution_count": 140,
   "id": "6c4faba8-57b5-4801-8f17-e423b70cf1b7",
   "metadata": {},
   "outputs": [],
   "source": [
    "X = df.drop('aerobic', axis=1)\n",
    "y = df['aerobic']\n",
    "\n",
    "# Split the data into training and testing sets\n",
    "X_train, X_test, y_train, y_test = train_test_split(X, y, test_size=0.2, random_state=42)"
   ]
  },
  {
   "cell_type": "code",
   "execution_count": 141,
   "id": "b2bd7ce8-0b4b-481f-b8a8-3fb20bd7193a",
   "metadata": {},
   "outputs": [],
   "source": [
    "scaler = StandardScaler()\n",
    "X_train[['age', 'height', 'weight','gender','goal']] = scaler.fit_transform(X_train[['age', 'height', 'weight','gender','goal']])\n",
    "X_test[['age', 'height', 'weight','gender','goal']] = scaler.transform(X_test[['age', 'height', 'weight','gender','goal']])"
   ]
  },
  {
   "cell_type": "code",
   "execution_count": 142,
   "id": "02876cd6-df31-46cc-b10a-c370aeedf7f0",
   "metadata": {},
   "outputs": [
    {
     "name": "stdout",
     "output_type": "stream",
     "text": [
      "          age    height    weight    gender      goal\n",
      "408 -0.976197 -0.378024  0.040477  1.013987 -0.108427\n",
      "522 -0.402172 -1.078309 -1.239001  1.013987 -0.108427\n",
      "163  1.415575 -0.237967  0.573593 -0.986206 -1.309471\n",
      "308    0\n",
      "54     1\n",
      "159    3\n",
      "Name: aerobic, dtype: int32\n"
     ]
    }
   ],
   "source": [
    "print(X_train.sample(3))\n",
    "print(y_train.sample(3))"
   ]
  },
  {
   "cell_type": "code",
   "execution_count": 81,
   "id": "05d08a6e-30c6-48a2-8342-95b053a7b9cb",
   "metadata": {},
   "outputs": [],
   "source": [
    "# y_train = scaler.fit_transform(y_train)\n",
    "# y_test[['aerobic']] = scaler.transform(y_test[['aerobic']])"
   ]
  },
  {
   "cell_type": "code",
   "execution_count": 143,
   "id": "8b9d8128-5052-4ecb-adbb-3346e494de42",
   "metadata": {},
   "outputs": [
    {
     "data": {
      "text/html": [
       "<style>#sk-container-id-5 {color: black;}#sk-container-id-5 pre{padding: 0;}#sk-container-id-5 div.sk-toggleable {background-color: white;}#sk-container-id-5 label.sk-toggleable__label {cursor: pointer;display: block;width: 100%;margin-bottom: 0;padding: 0.3em;box-sizing: border-box;text-align: center;}#sk-container-id-5 label.sk-toggleable__label-arrow:before {content: \"▸\";float: left;margin-right: 0.25em;color: #696969;}#sk-container-id-5 label.sk-toggleable__label-arrow:hover:before {color: black;}#sk-container-id-5 div.sk-estimator:hover label.sk-toggleable__label-arrow:before {color: black;}#sk-container-id-5 div.sk-toggleable__content {max-height: 0;max-width: 0;overflow: hidden;text-align: left;background-color: #f0f8ff;}#sk-container-id-5 div.sk-toggleable__content pre {margin: 0.2em;color: black;border-radius: 0.25em;background-color: #f0f8ff;}#sk-container-id-5 input.sk-toggleable__control:checked~div.sk-toggleable__content {max-height: 200px;max-width: 100%;overflow: auto;}#sk-container-id-5 input.sk-toggleable__control:checked~label.sk-toggleable__label-arrow:before {content: \"▾\";}#sk-container-id-5 div.sk-estimator input.sk-toggleable__control:checked~label.sk-toggleable__label {background-color: #d4ebff;}#sk-container-id-5 div.sk-label input.sk-toggleable__control:checked~label.sk-toggleable__label {background-color: #d4ebff;}#sk-container-id-5 input.sk-hidden--visually {border: 0;clip: rect(1px 1px 1px 1px);clip: rect(1px, 1px, 1px, 1px);height: 1px;margin: -1px;overflow: hidden;padding: 0;position: absolute;width: 1px;}#sk-container-id-5 div.sk-estimator {font-family: monospace;background-color: #f0f8ff;border: 1px dotted black;border-radius: 0.25em;box-sizing: border-box;margin-bottom: 0.5em;}#sk-container-id-5 div.sk-estimator:hover {background-color: #d4ebff;}#sk-container-id-5 div.sk-parallel-item::after {content: \"\";width: 100%;border-bottom: 1px solid gray;flex-grow: 1;}#sk-container-id-5 div.sk-label:hover label.sk-toggleable__label {background-color: #d4ebff;}#sk-container-id-5 div.sk-serial::before {content: \"\";position: absolute;border-left: 1px solid gray;box-sizing: border-box;top: 0;bottom: 0;left: 50%;z-index: 0;}#sk-container-id-5 div.sk-serial {display: flex;flex-direction: column;align-items: center;background-color: white;padding-right: 0.2em;padding-left: 0.2em;position: relative;}#sk-container-id-5 div.sk-item {position: relative;z-index: 1;}#sk-container-id-5 div.sk-parallel {display: flex;align-items: stretch;justify-content: center;background-color: white;position: relative;}#sk-container-id-5 div.sk-item::before, #sk-container-id-5 div.sk-parallel-item::before {content: \"\";position: absolute;border-left: 1px solid gray;box-sizing: border-box;top: 0;bottom: 0;left: 50%;z-index: -1;}#sk-container-id-5 div.sk-parallel-item {display: flex;flex-direction: column;z-index: 1;position: relative;background-color: white;}#sk-container-id-5 div.sk-parallel-item:first-child::after {align-self: flex-end;width: 50%;}#sk-container-id-5 div.sk-parallel-item:last-child::after {align-self: flex-start;width: 50%;}#sk-container-id-5 div.sk-parallel-item:only-child::after {width: 0;}#sk-container-id-5 div.sk-dashed-wrapped {border: 1px dashed gray;margin: 0 0.4em 0.5em 0.4em;box-sizing: border-box;padding-bottom: 0.4em;background-color: white;}#sk-container-id-5 div.sk-label label {font-family: monospace;font-weight: bold;display: inline-block;line-height: 1.2em;}#sk-container-id-5 div.sk-label-container {text-align: center;}#sk-container-id-5 div.sk-container {/* jupyter's `normalize.less` sets `[hidden] { display: none; }` but bootstrap.min.css set `[hidden] { display: none !important; }` so we also need the `!important` here to be able to override the default hidden behavior on the sphinx rendered scikit-learn.org. See: https://github.com/scikit-learn/scikit-learn/issues/21755 */display: inline-block !important;position: relative;}#sk-container-id-5 div.sk-text-repr-fallback {display: none;}</style><div id=\"sk-container-id-5\" class=\"sk-top-container\"><div class=\"sk-text-repr-fallback\"><pre>LogisticRegression()</pre><b>In a Jupyter environment, please rerun this cell to show the HTML representation or trust the notebook. <br />On GitHub, the HTML representation is unable to render, please try loading this page with nbviewer.org.</b></div><div class=\"sk-container\" hidden><div class=\"sk-item\"><div class=\"sk-estimator sk-toggleable\"><input class=\"sk-toggleable__control sk-hidden--visually\" id=\"sk-estimator-id-5\" type=\"checkbox\" checked><label for=\"sk-estimator-id-5\" class=\"sk-toggleable__label sk-toggleable__label-arrow\">LogisticRegression</label><div class=\"sk-toggleable__content\"><pre>LogisticRegression()</pre></div></div></div></div></div>"
      ],
      "text/plain": [
       "LogisticRegression()"
      ]
     },
     "execution_count": 143,
     "metadata": {},
     "output_type": "execute_result"
    }
   ],
   "source": [
    "from sklearn.linear_model import LogisticRegression\n",
    "model1 = LogisticRegression()\n",
    "model1.fit(X_train, y_train)"
   ]
  },
  {
   "cell_type": "code",
   "execution_count": 144,
   "id": "11c22b58-f719-4f9c-8f41-9353cb8dfcb4",
   "metadata": {},
   "outputs": [
    {
     "name": "stdout",
     "output_type": "stream",
     "text": [
      "[3 5 0 0 3 0 0 0 0 5 0 0 2 0 0 0 1 0 0 0 5 0 0 4 3 0 2 0 2 3 3 4 0 1 3 1 1\n",
      " 0 4 0 0 0 2 0 5 3 0 4 5 2 0 3 0 3 0 0 1 3 2 0 3 4 4 0 2 3 2 0 3 0 0 3 0 0\n",
      " 0 2 2 1 3 0 0 5 1 0 2 3 0 0 4 2 3 5 0 0 4 3 3 0 2 0 0 4 3 0 0 0 5 3]\n"
     ]
    }
   ],
   "source": [
    "y_pred = model1.predict(X_test)\n",
    "print(y_pred)"
   ]
  },
  {
   "cell_type": "code",
   "execution_count": 145,
   "id": "a896f808-f71d-4ad7-8bb7-4334ae411d10",
   "metadata": {},
   "outputs": [
    {
     "name": "stdout",
     "output_type": "stream",
     "text": [
      "Accuracy: 0.8055555555555556\n"
     ]
    }
   ],
   "source": [
    "accuracy = model1.score(X_test, y_test)\n",
    "print('Accuracy:', accuracy)"
   ]
  },
  {
   "cell_type": "code",
   "execution_count": 146,
   "id": "d958677d-e7d7-45c9-9cae-0a33afe0811b",
   "metadata": {},
   "outputs": [],
   "source": [
    "from sklearn.ensemble import RandomForestClassifier\n",
    "\n",
    "model2 = RandomForestClassifier(random_state=42)"
   ]
  },
  {
   "cell_type": "code",
   "execution_count": 148,
   "id": "8768f771-1f6e-4b97-b992-7c6a2fbe68b0",
   "metadata": {},
   "outputs": [
    {
     "data": {
      "text/html": [
       "<style>#sk-container-id-6 {color: black;}#sk-container-id-6 pre{padding: 0;}#sk-container-id-6 div.sk-toggleable {background-color: white;}#sk-container-id-6 label.sk-toggleable__label {cursor: pointer;display: block;width: 100%;margin-bottom: 0;padding: 0.3em;box-sizing: border-box;text-align: center;}#sk-container-id-6 label.sk-toggleable__label-arrow:before {content: \"▸\";float: left;margin-right: 0.25em;color: #696969;}#sk-container-id-6 label.sk-toggleable__label-arrow:hover:before {color: black;}#sk-container-id-6 div.sk-estimator:hover label.sk-toggleable__label-arrow:before {color: black;}#sk-container-id-6 div.sk-toggleable__content {max-height: 0;max-width: 0;overflow: hidden;text-align: left;background-color: #f0f8ff;}#sk-container-id-6 div.sk-toggleable__content pre {margin: 0.2em;color: black;border-radius: 0.25em;background-color: #f0f8ff;}#sk-container-id-6 input.sk-toggleable__control:checked~div.sk-toggleable__content {max-height: 200px;max-width: 100%;overflow: auto;}#sk-container-id-6 input.sk-toggleable__control:checked~label.sk-toggleable__label-arrow:before {content: \"▾\";}#sk-container-id-6 div.sk-estimator input.sk-toggleable__control:checked~label.sk-toggleable__label {background-color: #d4ebff;}#sk-container-id-6 div.sk-label input.sk-toggleable__control:checked~label.sk-toggleable__label {background-color: #d4ebff;}#sk-container-id-6 input.sk-hidden--visually {border: 0;clip: rect(1px 1px 1px 1px);clip: rect(1px, 1px, 1px, 1px);height: 1px;margin: -1px;overflow: hidden;padding: 0;position: absolute;width: 1px;}#sk-container-id-6 div.sk-estimator {font-family: monospace;background-color: #f0f8ff;border: 1px dotted black;border-radius: 0.25em;box-sizing: border-box;margin-bottom: 0.5em;}#sk-container-id-6 div.sk-estimator:hover {background-color: #d4ebff;}#sk-container-id-6 div.sk-parallel-item::after {content: \"\";width: 100%;border-bottom: 1px solid gray;flex-grow: 1;}#sk-container-id-6 div.sk-label:hover label.sk-toggleable__label {background-color: #d4ebff;}#sk-container-id-6 div.sk-serial::before {content: \"\";position: absolute;border-left: 1px solid gray;box-sizing: border-box;top: 0;bottom: 0;left: 50%;z-index: 0;}#sk-container-id-6 div.sk-serial {display: flex;flex-direction: column;align-items: center;background-color: white;padding-right: 0.2em;padding-left: 0.2em;position: relative;}#sk-container-id-6 div.sk-item {position: relative;z-index: 1;}#sk-container-id-6 div.sk-parallel {display: flex;align-items: stretch;justify-content: center;background-color: white;position: relative;}#sk-container-id-6 div.sk-item::before, #sk-container-id-6 div.sk-parallel-item::before {content: \"\";position: absolute;border-left: 1px solid gray;box-sizing: border-box;top: 0;bottom: 0;left: 50%;z-index: -1;}#sk-container-id-6 div.sk-parallel-item {display: flex;flex-direction: column;z-index: 1;position: relative;background-color: white;}#sk-container-id-6 div.sk-parallel-item:first-child::after {align-self: flex-end;width: 50%;}#sk-container-id-6 div.sk-parallel-item:last-child::after {align-self: flex-start;width: 50%;}#sk-container-id-6 div.sk-parallel-item:only-child::after {width: 0;}#sk-container-id-6 div.sk-dashed-wrapped {border: 1px dashed gray;margin: 0 0.4em 0.5em 0.4em;box-sizing: border-box;padding-bottom: 0.4em;background-color: white;}#sk-container-id-6 div.sk-label label {font-family: monospace;font-weight: bold;display: inline-block;line-height: 1.2em;}#sk-container-id-6 div.sk-label-container {text-align: center;}#sk-container-id-6 div.sk-container {/* jupyter's `normalize.less` sets `[hidden] { display: none; }` but bootstrap.min.css set `[hidden] { display: none !important; }` so we also need the `!important` here to be able to override the default hidden behavior on the sphinx rendered scikit-learn.org. See: https://github.com/scikit-learn/scikit-learn/issues/21755 */display: inline-block !important;position: relative;}#sk-container-id-6 div.sk-text-repr-fallback {display: none;}</style><div id=\"sk-container-id-6\" class=\"sk-top-container\"><div class=\"sk-text-repr-fallback\"><pre>RandomForestClassifier(random_state=42)</pre><b>In a Jupyter environment, please rerun this cell to show the HTML representation or trust the notebook. <br />On GitHub, the HTML representation is unable to render, please try loading this page with nbviewer.org.</b></div><div class=\"sk-container\" hidden><div class=\"sk-item\"><div class=\"sk-estimator sk-toggleable\"><input class=\"sk-toggleable__control sk-hidden--visually\" id=\"sk-estimator-id-6\" type=\"checkbox\" checked><label for=\"sk-estimator-id-6\" class=\"sk-toggleable__label sk-toggleable__label-arrow\">RandomForestClassifier</label><div class=\"sk-toggleable__content\"><pre>RandomForestClassifier(random_state=42)</pre></div></div></div></div></div>"
      ],
      "text/plain": [
       "RandomForestClassifier(random_state=42)"
      ]
     },
     "execution_count": 148,
     "metadata": {},
     "output_type": "execute_result"
    }
   ],
   "source": [
    "model2.fit(X_train, y_train)"
   ]
  },
  {
   "cell_type": "code",
   "execution_count": 149,
   "id": "f85f27eb-b1c5-401c-9b62-a0134482710b",
   "metadata": {},
   "outputs": [
    {
     "name": "stdout",
     "output_type": "stream",
     "text": [
      "[3 5 0 3 3 0 0 0 0 5 3 0 2 3 0 3 1 3 3 3 5 0 0 4 3 0 2 0 2 0 0 4 0 1 3 1 1\n",
      " 0 4 0 3 0 0 0 5 3 0 4 5 2 3 0 0 3 0 0 1 3 2 0 3 4 4 3 2 3 2 0 0 0 0 3 3 0\n",
      " 0 2 2 1 3 0 0 5 1 0 2 0 0 0 4 2 3 5 0 0 4 0 3 0 0 0 3 4 3 0 0 3 5 3]\n",
      "Accuracy: 0.8055555555555556\n"
     ]
    }
   ],
   "source": [
    "pred_2 = model.predict(X_test)\n",
    "print(pred_2)\n",
    "acc_2= model1.score(X_test, y_test)\n",
    "print('Accuracy:', accuracy)"
   ]
  },
  {
   "cell_type": "code",
   "execution_count": null,
   "id": "03f6c824-e406-44d9-8d8a-ad6a22ec3ca8",
   "metadata": {},
   "outputs": [],
   "source": []
  },
  {
   "cell_type": "code",
   "execution_count": null,
   "id": "0b5bcb6f-2904-4551-8bdb-f5fea677066f",
   "metadata": {},
   "outputs": [],
   "source": [
    "# ['build_muscle' 'stay_fit' 'lose_weight']\n",
    "# ['Jogging' 'Cycling' 'Weight Lifting' 'Dancing' 'Running' 'Swimming']\n",
    "# ['Male' 'Female']\n",
    "# [0 2 1]\n",
    "# [2 0 5 1 3 4]\n",
    "# [1 0]"
   ]
  },
  {
   "cell_type": "code",
   "execution_count": 118,
   "id": "10da721b-bf11-41cc-bcaa-742227295434",
   "metadata": {},
   "outputs": [
    {
     "name": "stdin",
     "output_type": "stream",
     "text": [
      "age: 34\n",
      "height: 167\n",
      "weight: 65\n",
      "Male/Female male\n",
      "build_muscle/stay_fit/lose_weight' stay_fit\n"
     ]
    }
   ],
   "source": [
    "age=int(input(\"age:\"))\n",
    "height=int(input(\"height:\"))\n",
    "weight=int(input(\"weight:\"))\n",
    "gender=input(\"Male/Female\")\n",
    "if gender.lower()==\"male\":\n",
    "    gender=1\n",
    "else:\n",
    "    gender=0\n",
    "goal=input(\"build_muscle/stay_fit/lose_weight'\")\n",
    "if goal.lower()=='build_muscle':\n",
    "    goal=0\n",
    "elif goal.lower()=='stay_fit':\n",
    "    goal=2\n",
    "elif goal.lower()=='lose_weight':\n",
    "    goal=1\n",
    "d1 = pd.DataFrame({'age': [age], 'height': [height], 'weight': [weight], 'gender': [gender], 'goal': [goal]})\n",
    "\n"
   ]
  },
  {
   "cell_type": "code",
   "execution_count": 119,
   "id": "4e8c37dd-3888-4416-8000-fdceb80c1554",
   "metadata": {},
   "outputs": [
    {
     "name": "stdout",
     "output_type": "stream",
     "text": [
      "   age  height  weight  gender  goal\n",
      "0   34     167      65       1     2\n"
     ]
    }
   ],
   "source": [
    "print(d1)\n",
    "# d1[['age', 'height', 'weight','gender','goal']] = scaler.fit_transform(d1[['age', 'height', 'weight','gender','goal']])\n",
    "# print(d1)"
   ]
  },
  {
   "cell_type": "code",
   "execution_count": 128,
   "id": "85b4cacb-1bc3-4832-a205-7c2d3ca0a0be",
   "metadata": {},
   "outputs": [
    {
     "name": "stdout",
     "output_type": "stream",
     "text": [
      "   age  height  weight  gender  goal\n",
      "0   67     164      45       0     1\n"
     ]
    }
   ],
   "source": [
    "d1 = pd.DataFrame({'age': [67], 'height': [164], 'weight': [45], 'gender': [0], 'goal': [1]})\n",
    "print(d1)"
   ]
  },
  {
   "cell_type": "code",
   "execution_count": 129,
   "id": "3f0e237c-cf19-4796-8c21-29c05a7a3e58",
   "metadata": {},
   "outputs": [
    {
     "name": "stdout",
     "output_type": "stream",
     "text": [
      "Prediction: [4]\n"
     ]
    }
   ],
   "source": [
    "new_prediction = model.predict(d1)\n",
    "\n",
    "print('Prediction:', new_prediction)\n"
   ]
  },
  {
   "cell_type": "code",
   "execution_count": null,
   "id": "802f2034-10eb-40ab-82e6-0c6374c106ea",
   "metadata": {},
   "outputs": [],
   "source": []
  },
  {
   "cell_type": "code",
   "execution_count": null,
   "id": "4e4e73d1-643e-4486-bbf4-d637e4772149",
   "metadata": {},
   "outputs": [],
   "source": []
  },
  {
   "cell_type": "code",
   "execution_count": null,
   "id": "2e988654-d237-4d93-8c09-d0dd78366cd1",
   "metadata": {},
   "outputs": [],
   "source": []
  },
  {
   "cell_type": "code",
   "execution_count": null,
   "id": "97212f4f-d14b-4cc5-ad12-fd4458a3a5bb",
   "metadata": {},
   "outputs": [],
   "source": []
  },
  {
   "cell_type": "code",
   "execution_count": null,
   "id": "3c228ea5-2690-40a6-8ef9-75047f39db3b",
   "metadata": {},
   "outputs": [],
   "source": []
  },
  {
   "cell_type": "code",
   "execution_count": null,
   "id": "7388dc90-61d8-4973-9892-e8bd2146c6e3",
   "metadata": {},
   "outputs": [],
   "source": []
  },
  {
   "cell_type": "code",
   "execution_count": null,
   "id": "4b649638-c005-4bfe-914f-7f28818fc2b4",
   "metadata": {},
   "outputs": [],
   "source": []
  },
  {
   "cell_type": "code",
   "execution_count": null,
   "id": "998e7f2e-7edf-4d2c-931f-1e52aa5daf93",
   "metadata": {},
   "outputs": [],
   "source": []
  },
  {
   "cell_type": "code",
   "execution_count": null,
   "id": "40bdb69c-21ac-4a9d-b233-1d7aad57ece8",
   "metadata": {},
   "outputs": [],
   "source": []
  }
 ],
 "metadata": {
  "kernelspec": {
   "display_name": "Python 3 (ipykernel)",
   "language": "python",
   "name": "python3"
  },
  "language_info": {
   "codemirror_mode": {
    "name": "ipython",
    "version": 3
   },
   "file_extension": ".py",
   "mimetype": "text/x-python",
   "name": "python",
   "nbconvert_exporter": "python",
   "pygments_lexer": "ipython3",
   "version": "3.10.7"
  },
  "widgets": {
   "application/vnd.jupyter.widget-state+json": {
    "state": {},
    "version_major": 2,
    "version_minor": 0
   }
  }
 },
 "nbformat": 4,
 "nbformat_minor": 5
}
